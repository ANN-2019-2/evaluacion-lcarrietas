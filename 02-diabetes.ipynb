{
 "cells": [
  {
   "cell_type": "markdown",
   "metadata": {
    "colab": {},
    "colab_type": "code",
    "id": "n3lnWjvI83ix"
   },
   "source": [
    "# Pronóstico de la evolución de pacientes con diabetes"
   ]
  },
  {
   "cell_type": "markdown",
   "metadata": {},
   "source": [
    "## Descripción del problema real"
   ]
  },
  {
   "cell_type": "markdown",
   "metadata": {},
   "source": [
    "Los tratamientos médicos están basados en las expectativas de recuperación o el avance de una enfermedad para tomar decisiones. En este caso, un equipo médico desea contar con pronósticos de pacientes con diabetes para tomar decisiones sobre su tratamiento."
   ]
  },
  {
   "cell_type": "markdown",
   "metadata": {},
   "source": [
    "## Descripción del problema en términos de los datos"
   ]
  },
  {
   "cell_type": "markdown",
   "metadata": {},
   "source": [
    "Se desea determinar el progreso de la diabeteis un año hacia adelante a partir de las variables medidas para 442 pacientes. La información está almacenada en el archivo `datos/diabetes.csv`. Las variables medidas son: edad, sexo, indice de masa corporal, presión sanguinea y seis medidas de serum en la sangre. Se desea pronósticar el progreso de la enfermedad a partir de las variables dadas."
   ]
  },
  {
   "cell_type": "markdown",
   "metadata": {},
   "source": [
    "## Aproximaciones posibles"
   ]
  },
  {
   "cell_type": "markdown",
   "metadata": {},
   "source": [
    "En este caso, se desea comparar los resultados de un modelo de regresión lineal y un modelo de redes neuronales artificiales."
   ]
  },
  {
   "cell_type": "markdown",
   "metadata": {},
   "source": [
    "## Requerimientos"
   ]
  },
  {
   "cell_type": "markdown",
   "metadata": {},
   "source": [
    "Usted debe:\n",
    "\n",
    "* Determinar cuáles de las variables consideradas son relevantes para el problema.\n",
    "\n",
    "\n",
    "* Determinar si hay alguna transformación de las variables de entrada o de salida que mejore el pronóstico del modelo.\n",
    "\n",
    "\n",
    "* Construir un modelo de regresión lineal que sirva como base para construir un modelo de redes neuronales artificiales.\n",
    "\n",
    "\n",
    "\n",
    "* Construir un modelo de redes neuronales artificiales. Asimismo, debe determinar el número de neuronas en la capa o capas ocultas.\n",
    "\n",
    "\n",
    "* Utiizar una técnica como crossvalidation u otra similar para establecer la robustez del modelo."
   ]
  },
  {
   "cell_type": "markdown",
   "metadata": {},
   "source": [
    "## Desarrollo"
   ]
  },
  {
   "cell_type": "code",
   "execution_count": 431,
   "metadata": {},
   "outputs": [],
   "source": [
    "import numpy as np\n",
    "import pandas as pd\n",
    "import seaborn as sns\n",
    "import matplotlib as mpl\n",
    "import matplotlib.pyplot as plt\n",
    "import statsmodels.api as sm\n",
    "%matplotlib inline"
   ]
  },
  {
   "cell_type": "code",
   "execution_count": 432,
   "metadata": {},
   "outputs": [
    {
     "name": "stdout",
     "output_type": "stream",
     "text": [
      "<class 'pandas.core.frame.DataFrame'>\n",
      "RangeIndex: 442 entries, 0 to 441\n",
      "Data columns (total 11 columns):\n",
      "age    442 non-null float64\n",
      "sex    442 non-null float64\n",
      "bmi    442 non-null float64\n",
      "bp     442 non-null float64\n",
      "s1     442 non-null float64\n",
      "s2     442 non-null float64\n",
      "s3     442 non-null float64\n",
      "s4     442 non-null float64\n",
      "s5     442 non-null float64\n",
      "s6     442 non-null float64\n",
      "Y      442 non-null float64\n",
      "dtypes: float64(11)\n",
      "memory usage: 38.1 KB\n"
     ]
    }
   ],
   "source": [
    "df = pd.read_csv(\"./datos/diabetes.csv\",\n",
    "    sep = ',',           \n",
    "    thousands = None,    \n",
    "    decimal = '.',       \n",
    "    encoding='latin-1') \n",
    "\n",
    "df.info()"
   ]
  },
  {
   "cell_type": "code",
   "execution_count": 433,
   "metadata": {},
   "outputs": [
    {
     "data": {
      "text/html": [
       "<div>\n",
       "<style scoped>\n",
       "    .dataframe tbody tr th:only-of-type {\n",
       "        vertical-align: middle;\n",
       "    }\n",
       "\n",
       "    .dataframe tbody tr th {\n",
       "        vertical-align: top;\n",
       "    }\n",
       "\n",
       "    .dataframe thead th {\n",
       "        text-align: right;\n",
       "    }\n",
       "</style>\n",
       "<table border=\"1\" class=\"dataframe\">\n",
       "  <thead>\n",
       "    <tr style=\"text-align: right;\">\n",
       "      <th></th>\n",
       "      <th>age</th>\n",
       "      <th>sex</th>\n",
       "      <th>bmi</th>\n",
       "      <th>bp</th>\n",
       "      <th>s1</th>\n",
       "      <th>s2</th>\n",
       "      <th>s3</th>\n",
       "      <th>s4</th>\n",
       "      <th>s5</th>\n",
       "      <th>s6</th>\n",
       "      <th>Y</th>\n",
       "    </tr>\n",
       "  </thead>\n",
       "  <tbody>\n",
       "    <tr>\n",
       "      <td>0</td>\n",
       "      <td>0.038076</td>\n",
       "      <td>0.050680</td>\n",
       "      <td>0.061696</td>\n",
       "      <td>0.021872</td>\n",
       "      <td>-0.044223</td>\n",
       "      <td>-0.034821</td>\n",
       "      <td>-0.043401</td>\n",
       "      <td>-0.002592</td>\n",
       "      <td>0.019908</td>\n",
       "      <td>-0.017646</td>\n",
       "      <td>151.0</td>\n",
       "    </tr>\n",
       "    <tr>\n",
       "      <td>1</td>\n",
       "      <td>-0.001882</td>\n",
       "      <td>-0.044642</td>\n",
       "      <td>-0.051474</td>\n",
       "      <td>-0.026328</td>\n",
       "      <td>-0.008449</td>\n",
       "      <td>-0.019163</td>\n",
       "      <td>0.074412</td>\n",
       "      <td>-0.039493</td>\n",
       "      <td>-0.068330</td>\n",
       "      <td>-0.092204</td>\n",
       "      <td>75.0</td>\n",
       "    </tr>\n",
       "    <tr>\n",
       "      <td>2</td>\n",
       "      <td>0.085299</td>\n",
       "      <td>0.050680</td>\n",
       "      <td>0.044451</td>\n",
       "      <td>-0.005671</td>\n",
       "      <td>-0.045599</td>\n",
       "      <td>-0.034194</td>\n",
       "      <td>-0.032356</td>\n",
       "      <td>-0.002592</td>\n",
       "      <td>0.002864</td>\n",
       "      <td>-0.025930</td>\n",
       "      <td>141.0</td>\n",
       "    </tr>\n",
       "    <tr>\n",
       "      <td>3</td>\n",
       "      <td>-0.089063</td>\n",
       "      <td>-0.044642</td>\n",
       "      <td>-0.011595</td>\n",
       "      <td>-0.036656</td>\n",
       "      <td>0.012191</td>\n",
       "      <td>0.024991</td>\n",
       "      <td>-0.036038</td>\n",
       "      <td>0.034309</td>\n",
       "      <td>0.022692</td>\n",
       "      <td>-0.009362</td>\n",
       "      <td>206.0</td>\n",
       "    </tr>\n",
       "    <tr>\n",
       "      <td>4</td>\n",
       "      <td>0.005383</td>\n",
       "      <td>-0.044642</td>\n",
       "      <td>-0.036385</td>\n",
       "      <td>0.021872</td>\n",
       "      <td>0.003935</td>\n",
       "      <td>0.015596</td>\n",
       "      <td>0.008142</td>\n",
       "      <td>-0.002592</td>\n",
       "      <td>-0.031991</td>\n",
       "      <td>-0.046641</td>\n",
       "      <td>135.0</td>\n",
       "    </tr>\n",
       "    <tr>\n",
       "      <td>...</td>\n",
       "      <td>...</td>\n",
       "      <td>...</td>\n",
       "      <td>...</td>\n",
       "      <td>...</td>\n",
       "      <td>...</td>\n",
       "      <td>...</td>\n",
       "      <td>...</td>\n",
       "      <td>...</td>\n",
       "      <td>...</td>\n",
       "      <td>...</td>\n",
       "      <td>...</td>\n",
       "    </tr>\n",
       "    <tr>\n",
       "      <td>437</td>\n",
       "      <td>0.041708</td>\n",
       "      <td>0.050680</td>\n",
       "      <td>0.019662</td>\n",
       "      <td>0.059744</td>\n",
       "      <td>-0.005697</td>\n",
       "      <td>-0.002566</td>\n",
       "      <td>-0.028674</td>\n",
       "      <td>-0.002592</td>\n",
       "      <td>0.031193</td>\n",
       "      <td>0.007207</td>\n",
       "      <td>178.0</td>\n",
       "    </tr>\n",
       "    <tr>\n",
       "      <td>438</td>\n",
       "      <td>-0.005515</td>\n",
       "      <td>0.050680</td>\n",
       "      <td>-0.015906</td>\n",
       "      <td>-0.067642</td>\n",
       "      <td>0.049341</td>\n",
       "      <td>0.079165</td>\n",
       "      <td>-0.028674</td>\n",
       "      <td>0.034309</td>\n",
       "      <td>-0.018118</td>\n",
       "      <td>0.044485</td>\n",
       "      <td>104.0</td>\n",
       "    </tr>\n",
       "    <tr>\n",
       "      <td>439</td>\n",
       "      <td>0.041708</td>\n",
       "      <td>0.050680</td>\n",
       "      <td>-0.015906</td>\n",
       "      <td>0.017282</td>\n",
       "      <td>-0.037344</td>\n",
       "      <td>-0.013840</td>\n",
       "      <td>-0.024993</td>\n",
       "      <td>-0.011080</td>\n",
       "      <td>-0.046879</td>\n",
       "      <td>0.015491</td>\n",
       "      <td>132.0</td>\n",
       "    </tr>\n",
       "    <tr>\n",
       "      <td>440</td>\n",
       "      <td>-0.045472</td>\n",
       "      <td>-0.044642</td>\n",
       "      <td>0.039062</td>\n",
       "      <td>0.001215</td>\n",
       "      <td>0.016318</td>\n",
       "      <td>0.015283</td>\n",
       "      <td>-0.028674</td>\n",
       "      <td>0.026560</td>\n",
       "      <td>0.044528</td>\n",
       "      <td>-0.025930</td>\n",
       "      <td>220.0</td>\n",
       "    </tr>\n",
       "    <tr>\n",
       "      <td>441</td>\n",
       "      <td>-0.045472</td>\n",
       "      <td>-0.044642</td>\n",
       "      <td>-0.073030</td>\n",
       "      <td>-0.081414</td>\n",
       "      <td>0.083740</td>\n",
       "      <td>0.027809</td>\n",
       "      <td>0.173816</td>\n",
       "      <td>-0.039493</td>\n",
       "      <td>-0.004220</td>\n",
       "      <td>0.003064</td>\n",
       "      <td>57.0</td>\n",
       "    </tr>\n",
       "  </tbody>\n",
       "</table>\n",
       "<p>442 rows × 11 columns</p>\n",
       "</div>"
      ],
      "text/plain": [
       "          age       sex       bmi        bp        s1        s2        s3  \\\n",
       "0    0.038076  0.050680  0.061696  0.021872 -0.044223 -0.034821 -0.043401   \n",
       "1   -0.001882 -0.044642 -0.051474 -0.026328 -0.008449 -0.019163  0.074412   \n",
       "2    0.085299  0.050680  0.044451 -0.005671 -0.045599 -0.034194 -0.032356   \n",
       "3   -0.089063 -0.044642 -0.011595 -0.036656  0.012191  0.024991 -0.036038   \n",
       "4    0.005383 -0.044642 -0.036385  0.021872  0.003935  0.015596  0.008142   \n",
       "..        ...       ...       ...       ...       ...       ...       ...   \n",
       "437  0.041708  0.050680  0.019662  0.059744 -0.005697 -0.002566 -0.028674   \n",
       "438 -0.005515  0.050680 -0.015906 -0.067642  0.049341  0.079165 -0.028674   \n",
       "439  0.041708  0.050680 -0.015906  0.017282 -0.037344 -0.013840 -0.024993   \n",
       "440 -0.045472 -0.044642  0.039062  0.001215  0.016318  0.015283 -0.028674   \n",
       "441 -0.045472 -0.044642 -0.073030 -0.081414  0.083740  0.027809  0.173816   \n",
       "\n",
       "           s4        s5        s6      Y  \n",
       "0   -0.002592  0.019908 -0.017646  151.0  \n",
       "1   -0.039493 -0.068330 -0.092204   75.0  \n",
       "2   -0.002592  0.002864 -0.025930  141.0  \n",
       "3    0.034309  0.022692 -0.009362  206.0  \n",
       "4   -0.002592 -0.031991 -0.046641  135.0  \n",
       "..        ...       ...       ...    ...  \n",
       "437 -0.002592  0.031193  0.007207  178.0  \n",
       "438  0.034309 -0.018118  0.044485  104.0  \n",
       "439 -0.011080 -0.046879  0.015491  132.0  \n",
       "440  0.026560  0.044528 -0.025930  220.0  \n",
       "441 -0.039493 -0.004220  0.003064   57.0  \n",
       "\n",
       "[442 rows x 11 columns]"
      ]
     },
     "execution_count": 433,
     "metadata": {},
     "output_type": "execute_result"
    }
   ],
   "source": [
    "df"
   ]
  },
  {
   "cell_type": "code",
   "execution_count": 434,
   "metadata": {},
   "outputs": [
    {
     "data": {
      "text/html": [
       "<div>\n",
       "<style scoped>\n",
       "    .dataframe tbody tr th:only-of-type {\n",
       "        vertical-align: middle;\n",
       "    }\n",
       "\n",
       "    .dataframe tbody tr th {\n",
       "        vertical-align: top;\n",
       "    }\n",
       "\n",
       "    .dataframe thead th {\n",
       "        text-align: right;\n",
       "    }\n",
       "</style>\n",
       "<table border=\"1\" class=\"dataframe\">\n",
       "  <thead>\n",
       "    <tr style=\"text-align: right;\">\n",
       "      <th></th>\n",
       "      <th>age</th>\n",
       "      <th>sex</th>\n",
       "      <th>bmi</th>\n",
       "      <th>bp</th>\n",
       "      <th>s1</th>\n",
       "      <th>s2</th>\n",
       "      <th>s3</th>\n",
       "      <th>s4</th>\n",
       "      <th>s5</th>\n",
       "      <th>s6</th>\n",
       "      <th>Y</th>\n",
       "    </tr>\n",
       "  </thead>\n",
       "  <tbody>\n",
       "    <tr>\n",
       "      <td>0</td>\n",
       "      <td>0.666667</td>\n",
       "      <td>1.0</td>\n",
       "      <td>0.582645</td>\n",
       "      <td>0.549296</td>\n",
       "      <td>0.294118</td>\n",
       "      <td>0.256972</td>\n",
       "      <td>0.207792</td>\n",
       "      <td>0.282087</td>\n",
       "      <td>0.562217</td>\n",
       "      <td>0.439394</td>\n",
       "      <td>0.392523</td>\n",
       "    </tr>\n",
       "    <tr>\n",
       "      <td>1</td>\n",
       "      <td>0.483333</td>\n",
       "      <td>0.0</td>\n",
       "      <td>0.148760</td>\n",
       "      <td>0.352113</td>\n",
       "      <td>0.421569</td>\n",
       "      <td>0.306773</td>\n",
       "      <td>0.623377</td>\n",
       "      <td>0.141044</td>\n",
       "      <td>0.222443</td>\n",
       "      <td>0.166667</td>\n",
       "      <td>0.155763</td>\n",
       "    </tr>\n",
       "    <tr>\n",
       "      <td>2</td>\n",
       "      <td>0.883333</td>\n",
       "      <td>1.0</td>\n",
       "      <td>0.516529</td>\n",
       "      <td>0.436620</td>\n",
       "      <td>0.289216</td>\n",
       "      <td>0.258964</td>\n",
       "      <td>0.246753</td>\n",
       "      <td>0.282087</td>\n",
       "      <td>0.496584</td>\n",
       "      <td>0.409091</td>\n",
       "      <td>0.361371</td>\n",
       "    </tr>\n",
       "    <tr>\n",
       "      <td>3</td>\n",
       "      <td>0.083333</td>\n",
       "      <td>0.0</td>\n",
       "      <td>0.301653</td>\n",
       "      <td>0.309859</td>\n",
       "      <td>0.495098</td>\n",
       "      <td>0.447211</td>\n",
       "      <td>0.233766</td>\n",
       "      <td>0.423131</td>\n",
       "      <td>0.572936</td>\n",
       "      <td>0.469697</td>\n",
       "      <td>0.563863</td>\n",
       "    </tr>\n",
       "    <tr>\n",
       "      <td>4</td>\n",
       "      <td>0.516667</td>\n",
       "      <td>0.0</td>\n",
       "      <td>0.206612</td>\n",
       "      <td>0.549296</td>\n",
       "      <td>0.465686</td>\n",
       "      <td>0.417331</td>\n",
       "      <td>0.389610</td>\n",
       "      <td>0.282087</td>\n",
       "      <td>0.362369</td>\n",
       "      <td>0.333333</td>\n",
       "      <td>0.342679</td>\n",
       "    </tr>\n",
       "    <tr>\n",
       "      <td>...</td>\n",
       "      <td>...</td>\n",
       "      <td>...</td>\n",
       "      <td>...</td>\n",
       "      <td>...</td>\n",
       "      <td>...</td>\n",
       "      <td>...</td>\n",
       "      <td>...</td>\n",
       "      <td>...</td>\n",
       "      <td>...</td>\n",
       "      <td>...</td>\n",
       "      <td>...</td>\n",
       "    </tr>\n",
       "    <tr>\n",
       "      <td>437</td>\n",
       "      <td>0.683333</td>\n",
       "      <td>1.0</td>\n",
       "      <td>0.421488</td>\n",
       "      <td>0.704225</td>\n",
       "      <td>0.431373</td>\n",
       "      <td>0.359562</td>\n",
       "      <td>0.259740</td>\n",
       "      <td>0.282087</td>\n",
       "      <td>0.605670</td>\n",
       "      <td>0.530303</td>\n",
       "      <td>0.476636</td>\n",
       "    </tr>\n",
       "    <tr>\n",
       "      <td>438</td>\n",
       "      <td>0.466667</td>\n",
       "      <td>1.0</td>\n",
       "      <td>0.285124</td>\n",
       "      <td>0.183099</td>\n",
       "      <td>0.627451</td>\n",
       "      <td>0.619522</td>\n",
       "      <td>0.259740</td>\n",
       "      <td>0.423131</td>\n",
       "      <td>0.415790</td>\n",
       "      <td>0.666667</td>\n",
       "      <td>0.246106</td>\n",
       "    </tr>\n",
       "    <tr>\n",
       "      <td>439</td>\n",
       "      <td>0.683333</td>\n",
       "      <td>1.0</td>\n",
       "      <td>0.285124</td>\n",
       "      <td>0.530516</td>\n",
       "      <td>0.318627</td>\n",
       "      <td>0.323705</td>\n",
       "      <td>0.272727</td>\n",
       "      <td>0.249647</td>\n",
       "      <td>0.305040</td>\n",
       "      <td>0.560606</td>\n",
       "      <td>0.333333</td>\n",
       "    </tr>\n",
       "    <tr>\n",
       "      <td>440</td>\n",
       "      <td>0.283333</td>\n",
       "      <td>0.0</td>\n",
       "      <td>0.495868</td>\n",
       "      <td>0.464789</td>\n",
       "      <td>0.509804</td>\n",
       "      <td>0.416335</td>\n",
       "      <td>0.259740</td>\n",
       "      <td>0.393512</td>\n",
       "      <td>0.657020</td>\n",
       "      <td>0.409091</td>\n",
       "      <td>0.607477</td>\n",
       "    </tr>\n",
       "    <tr>\n",
       "      <td>441</td>\n",
       "      <td>0.283333</td>\n",
       "      <td>0.0</td>\n",
       "      <td>0.066116</td>\n",
       "      <td>0.126761</td>\n",
       "      <td>0.750000</td>\n",
       "      <td>0.456175</td>\n",
       "      <td>0.974026</td>\n",
       "      <td>0.141044</td>\n",
       "      <td>0.469308</td>\n",
       "      <td>0.515152</td>\n",
       "      <td>0.099688</td>\n",
       "    </tr>\n",
       "  </tbody>\n",
       "</table>\n",
       "<p>442 rows × 11 columns</p>\n",
       "</div>"
      ],
      "text/plain": [
       "          age  sex       bmi        bp        s1        s2        s3  \\\n",
       "0    0.666667  1.0  0.582645  0.549296  0.294118  0.256972  0.207792   \n",
       "1    0.483333  0.0  0.148760  0.352113  0.421569  0.306773  0.623377   \n",
       "2    0.883333  1.0  0.516529  0.436620  0.289216  0.258964  0.246753   \n",
       "3    0.083333  0.0  0.301653  0.309859  0.495098  0.447211  0.233766   \n",
       "4    0.516667  0.0  0.206612  0.549296  0.465686  0.417331  0.389610   \n",
       "..        ...  ...       ...       ...       ...       ...       ...   \n",
       "437  0.683333  1.0  0.421488  0.704225  0.431373  0.359562  0.259740   \n",
       "438  0.466667  1.0  0.285124  0.183099  0.627451  0.619522  0.259740   \n",
       "439  0.683333  1.0  0.285124  0.530516  0.318627  0.323705  0.272727   \n",
       "440  0.283333  0.0  0.495868  0.464789  0.509804  0.416335  0.259740   \n",
       "441  0.283333  0.0  0.066116  0.126761  0.750000  0.456175  0.974026   \n",
       "\n",
       "           s4        s5        s6         Y  \n",
       "0    0.282087  0.562217  0.439394  0.392523  \n",
       "1    0.141044  0.222443  0.166667  0.155763  \n",
       "2    0.282087  0.496584  0.409091  0.361371  \n",
       "3    0.423131  0.572936  0.469697  0.563863  \n",
       "4    0.282087  0.362369  0.333333  0.342679  \n",
       "..        ...       ...       ...       ...  \n",
       "437  0.282087  0.605670  0.530303  0.476636  \n",
       "438  0.423131  0.415790  0.666667  0.246106  \n",
       "439  0.249647  0.305040  0.560606  0.333333  \n",
       "440  0.393512  0.657020  0.409091  0.607477  \n",
       "441  0.141044  0.469308  0.515152  0.099688  \n",
       "\n",
       "[442 rows x 11 columns]"
      ]
     },
     "execution_count": 434,
     "metadata": {},
     "output_type": "execute_result"
    }
   ],
   "source": [
    "#Normalización de los datos\n",
    "from sklearn.preprocessing import MinMaxScaler\n",
    "scaler = MinMaxScaler()\n",
    "df_norm = pd.DataFrame(scaler.fit_transform(df), columns = df.columns)\n",
    "df_norm"
   ]
  },
  {
   "cell_type": "markdown",
   "metadata": {},
   "source": [
    "## Modelo con todas las variables (10)"
   ]
  },
  {
   "cell_type": "markdown",
   "metadata": {},
   "source": [
    "Vamos a comparar los resultados de la estimación del modelo con las 10 variables sin ninguna transformación y con las variables normalizadas para escoger cual ofrece mejores resultados."
   ]
  },
  {
   "cell_type": "code",
   "execution_count": 435,
   "metadata": {},
   "outputs": [
    {
     "data": {
      "text/plain": [
       "Index(['age', 'sex', 'bmi', 'bp', 's1', 's2', 's3', 's4', 's5', 's6'], dtype='object')"
      ]
     },
     "execution_count": 435,
     "metadata": {},
     "output_type": "execute_result"
    }
   ],
   "source": [
    "#DATOS SIN TRANSFORMACIÓN\n",
    "#Separamos el DataFrame en Variable Dependiente \"y\" y variables Independientes\n",
    "y = df['Y'].tolist()\n",
    "x10 = df.iloc[:,0:10]\n",
    "x10.columns"
   ]
  },
  {
   "cell_type": "code",
   "execution_count": 436,
   "metadata": {},
   "outputs": [
    {
     "name": "stdout",
     "output_type": "stream",
     "text": [
      "                                 OLS Regression Results                                \n",
      "=======================================================================================\n",
      "Dep. Variable:                      y   R-squared (uncentered):                   0.106\n",
      "Model:                            OLS   Adj. R-squared (uncentered):              0.085\n",
      "Method:                 Least Squares   F-statistic:                              5.100\n",
      "Date:                Mon, 06 Apr 2020   Prob (F-statistic):                    4.72e-07\n",
      "Time:                        19:31:49   Log-Likelihood:                         -2873.9\n",
      "No. Observations:                 442   AIC:                                      5768.\n",
      "Df Residuals:                     432   BIC:                                      5809.\n",
      "Df Model:                          10                                                  \n",
      "Covariance Type:            nonrobust                                                  \n",
      "==============================================================================\n",
      "                 coef    std err          t      P>|t|      [0.025      0.975]\n",
      "------------------------------------------------------------------------------\n",
      "age          -10.0122    179.967     -0.056      0.956    -363.731     343.707\n",
      "sex         -239.8191    184.404     -1.301      0.194    -602.259     122.621\n",
      "bmi          519.8398    200.401      2.594      0.010     125.957     913.723\n",
      "bp           324.3904    197.053      1.646      0.100     -62.912     711.692\n",
      "s1          -792.1842   1255.066     -0.631      0.528   -3258.979    1674.611\n",
      "s2           476.7458   1021.183      0.467      0.641   -1530.360    2483.851\n",
      "s3           101.0446    640.155      0.158      0.875   -1157.162    1359.251\n",
      "s4           177.0642    486.370      0.364      0.716    -778.882    1133.010\n",
      "s5           751.2793    517.774      1.451      0.148    -266.391    1768.950\n",
      "s6            67.6254    198.747      0.340      0.734    -323.005     458.256\n",
      "==============================================================================\n",
      "Omnibus:                        1.506   Durbin-Watson:                   0.223\n",
      "Prob(Omnibus):                  0.471   Jarque-Bera (JB):                1.404\n",
      "Skew:                           0.017   Prob(JB):                        0.496\n",
      "Kurtosis:                       2.726   Cond. No.                         21.7\n",
      "==============================================================================\n",
      "\n",
      "Warnings:\n",
      "[1] Standard Errors assume that the covariance matrix of the errors is correctly specified.\n"
     ]
    }
   ],
   "source": [
    "#Usamos OLS para estimar la significancia del modelo, con los datos sin escalar\n",
    "model = sm.OLS(y, x10)\n",
    "results = model.fit()\n",
    "print(results.summary())"
   ]
  },
  {
   "cell_type": "code",
   "execution_count": 437,
   "metadata": {},
   "outputs": [
    {
     "name": "stdout",
     "output_type": "stream",
     "text": [
      "                                 OLS Regression Results                                \n",
      "=======================================================================================\n",
      "Dep. Variable:                      Y   R-squared (uncentered):                   0.870\n",
      "Model:                            OLS   Adj. R-squared (uncentered):              0.867\n",
      "Method:                 Least Squares   F-statistic:                              290.0\n",
      "Date:                Mon, 06 Apr 2020   Prob (F-statistic):                   1.28e-184\n",
      "Time:                        19:31:49   Log-Likelihood:                          164.60\n",
      "No. Observations:                 442   AIC:                                     -309.2\n",
      "Df Residuals:                     432   BIC:                                     -268.3\n",
      "Df Model:                          10                                                  \n",
      "Covariance Type:            nonrobust                                                  \n",
      "==============================================================================\n",
      "                 coef    std err          t      P>|t|      [0.025      0.975]\n",
      "------------------------------------------------------------------------------\n",
      "age           -0.0079      0.041     -0.194      0.846      -0.088       0.072\n",
      "sex           -0.0722      0.018     -3.982      0.000      -0.108      -0.037\n",
      "bmi            0.4205      0.054      7.787      0.000       0.314       0.527\n",
      "bp             0.2439      0.050      4.909      0.000       0.146       0.341\n",
      "s1            -0.4226      0.188     -2.246      0.025      -0.792      -0.053\n",
      "s2             0.2381      0.201      1.185      0.237      -0.157       0.633\n",
      "s3            -0.0626      0.067     -0.938      0.349      -0.194       0.069\n",
      "s4             0.0870      0.114      0.765      0.445      -0.136       0.310\n",
      "s5             0.5153      0.089      5.788      0.000       0.340       0.690\n",
      "s6             0.0535      0.056      0.956      0.339      -0.056       0.164\n",
      "==============================================================================\n",
      "Omnibus:                        1.529   Durbin-Watson:                   2.025\n",
      "Prob(Omnibus):                  0.466   Jarque-Bera (JB):                1.426\n",
      "Skew:                           0.024   Prob(JB):                        0.490\n",
      "Kurtosis:                       2.726   Cond. No.                         49.2\n",
      "==============================================================================\n",
      "\n",
      "Warnings:\n",
      "[1] Standard Errors assume that the covariance matrix of the errors is correctly specified.\n"
     ]
    }
   ],
   "source": [
    "#Estimacipon del modelo con las VARIABLES NORMALIZADAS\n",
    "y = df_norm['Y']\n",
    "x10n = df_norm.iloc[:,0:10]\n",
    "x10n.columns\n",
    "model = sm.OLS(yn, x10n)\n",
    "results = model.fit()\n",
    "print(results.summary())"
   ]
  },
  {
   "cell_type": "markdown",
   "metadata": {},
   "source": [
    ">Definitivamente es mejor trabajar con los datos normalizados, ya que como se aprecia en las estimaciones anteriores el **`Adj. R-squared` es bastante mayor** para el modelo con las variables normalizadas. \n",
    "\n",
    "A continuación se realiza el método backward para seleccionar las variables más representativas al modelo, como se sugiere en [este enlace](https://jdvelasq.github.io/courses/notebooks/sklearn/fundamentals/2-08-akaike.html)."
   ]
  },
  {
   "cell_type": "markdown",
   "metadata": {},
   "source": [
    "## Modelos con 9 Variables"
   ]
  },
  {
   "cell_type": "code",
   "execution_count": 438,
   "metadata": {},
   "outputs": [],
   "source": [
    "#Modelo sin X1 = Edad\n",
    "y = df_norm['Y']\n",
    "x9_age = df_norm.iloc[:,1:10]"
   ]
  },
  {
   "cell_type": "code",
   "execution_count": 439,
   "metadata": {},
   "outputs": [
    {
     "name": "stdout",
     "output_type": "stream",
     "text": [
      "                                 OLS Regression Results                                \n",
      "=======================================================================================\n",
      "Dep. Variable:                      Y   R-squared (uncentered):                   0.870\n",
      "Model:                            OLS   Adj. R-squared (uncentered):              0.868\n",
      "Method:                 Least Squares   F-statistic:                              322.9\n",
      "Date:                Mon, 06 Apr 2020   Prob (F-statistic):                   7.05e-186\n",
      "Time:                        19:31:49   Log-Likelihood:                          164.58\n",
      "No. Observations:                 442   AIC:                                     -311.2\n",
      "Df Residuals:                     433   BIC:                                     -274.3\n",
      "Df Model:                           9                                                  \n",
      "Covariance Type:            nonrobust                                                  \n",
      "==============================================================================\n",
      "                 coef    std err          t      P>|t|      [0.025      0.975]\n",
      "------------------------------------------------------------------------------\n",
      "sex           -0.0726      0.018     -4.027      0.000      -0.108      -0.037\n",
      "bmi            0.4206      0.054      7.797      0.000       0.315       0.527\n",
      "bp             0.2420      0.049      4.971      0.000       0.146       0.338\n",
      "s1            -0.4195      0.187     -2.240      0.026      -0.788      -0.051\n",
      "s2             0.2338      0.199      1.173      0.242      -0.158       0.626\n",
      "s3            -0.0650      0.066     -0.992      0.322      -0.194       0.064\n",
      "s4             0.0869      0.114      0.766      0.444      -0.136       0.310\n",
      "s5             0.5130      0.088      5.820      0.000       0.340       0.686\n",
      "s6             0.0521      0.055      0.940      0.348      -0.057       0.161\n",
      "==============================================================================\n",
      "Omnibus:                        1.561   Durbin-Watson:                   2.025\n",
      "Prob(Omnibus):                  0.458   Jarque-Bera (JB):                1.451\n",
      "Skew:                           0.026   Prob(JB):                        0.484\n",
      "Kurtosis:                       2.724   Cond. No.                         45.7\n",
      "==============================================================================\n",
      "\n",
      "Warnings:\n",
      "[1] Standard Errors assume that the covariance matrix of the errors is correctly specified.\n"
     ]
    }
   ],
   "source": [
    "model = sm.OLS(y, x9_age)\n",
    "results = model.fit()\n",
    "print(results.summary())"
   ]
  },
  {
   "cell_type": "code",
   "execution_count": 440,
   "metadata": {},
   "outputs": [
    {
     "name": "stdout",
     "output_type": "stream",
     "text": [
      "                                 OLS Regression Results                                \n",
      "=======================================================================================\n",
      "Dep. Variable:                      Y   R-squared (uncentered):                   0.866\n",
      "Model:                            OLS   Adj. R-squared (uncentered):              0.863\n",
      "Method:                 Least Squares   F-statistic:                              309.8\n",
      "Date:                Mon, 06 Apr 2020   Prob (F-statistic):                   1.66e-182\n",
      "Time:                        19:31:50   Log-Likelihood:                          156.63\n",
      "No. Observations:                 442   AIC:                                     -295.3\n",
      "Df Residuals:                     433   BIC:                                     -258.4\n",
      "Df Model:                           9                                                  \n",
      "Covariance Type:            nonrobust                                                  \n",
      "==============================================================================\n",
      "                 coef    std err          t      P>|t|      [0.025      0.975]\n",
      "------------------------------------------------------------------------------\n",
      "age           -0.0242      0.041     -0.590      0.556      -0.105       0.056\n",
      "bmi            0.4508      0.054      8.290      0.000       0.344       0.558\n",
      "bp             0.2055      0.050      4.146      0.000       0.108       0.303\n",
      "s1            -0.2723      0.187     -1.453      0.147      -0.641       0.096\n",
      "s2             0.1145      0.202      0.568      0.571      -0.282       0.511\n",
      "s3            -0.0728      0.068     -1.073      0.284      -0.206       0.061\n",
      "s4             0.0279      0.115      0.243      0.808      -0.197       0.253\n",
      "s5             0.4923      0.090      5.448      0.000       0.315       0.670\n",
      "s6             0.0361      0.057      0.636      0.525      -0.075       0.148\n",
      "==============================================================================\n",
      "Omnibus:                        5.987   Durbin-Watson:                   2.011\n",
      "Prob(Omnibus):                  0.050   Jarque-Bera (JB):                4.319\n",
      "Skew:                           0.105   Prob(JB):                        0.115\n",
      "Kurtosis:                       2.564   Cond. No.                         45.3\n",
      "==============================================================================\n",
      "\n",
      "Warnings:\n",
      "[1] Standard Errors assume that the covariance matrix of the errors is correctly specified.\n"
     ]
    }
   ],
   "source": [
    "#Modelo sin X2 = Sexo\n",
    "y = df_norm['Y']\n",
    "x9_sex = df_norm.iloc[: ,[0,2,3,4,5,6,7,8,9]]\n",
    "model = sm.OLS(y, x9_sex)\n",
    "results = model.fit()\n",
    "print(results.summary())"
   ]
  },
  {
   "cell_type": "code",
   "execution_count": 441,
   "metadata": {},
   "outputs": [
    {
     "name": "stdout",
     "output_type": "stream",
     "text": [
      "                                 OLS Regression Results                                \n",
      "=======================================================================================\n",
      "Dep. Variable:                      Y   R-squared (uncentered):                   0.852\n",
      "Model:                            OLS   Adj. R-squared (uncentered):              0.849\n",
      "Method:                 Least Squares   F-statistic:                              277.3\n",
      "Date:                Mon, 06 Apr 2020   Prob (F-statistic):                   1.44e-173\n",
      "Time:                        19:31:50   Log-Likelihood:                          135.57\n",
      "No. Observations:                 442   AIC:                                     -253.1\n",
      "Df Residuals:                     433   BIC:                                     -216.3\n",
      "Df Model:                           9                                                  \n",
      "Covariance Type:            nonrobust                                                  \n",
      "==============================================================================\n",
      "                 coef    std err          t      P>|t|      [0.025      0.975]\n",
      "------------------------------------------------------------------------------\n",
      "age           -0.0093      0.043     -0.215      0.830      -0.094       0.076\n",
      "sex           -0.0921      0.019     -4.808      0.000      -0.130      -0.054\n",
      "bp             0.3386      0.051      6.592      0.000       0.238       0.440\n",
      "s1            -0.7151      0.197     -3.636      0.000      -1.102      -0.329\n",
      "s2             0.5634      0.210      2.689      0.007       0.152       0.975\n",
      "s3            -0.0600      0.071     -0.843      0.400      -0.200       0.080\n",
      "s4             0.0841      0.121      0.694      0.488      -0.154       0.322\n",
      "s5             0.7009      0.092      7.660      0.000       0.521       0.881\n",
      "s6             0.1210      0.059      2.051      0.041       0.005       0.237\n",
      "==============================================================================\n",
      "Omnibus:                        1.894   Durbin-Watson:                   2.087\n",
      "Prob(Omnibus):                  0.388   Jarque-Bera (JB):                1.893\n",
      "Skew:                           0.108   Prob(JB):                        0.388\n",
      "Kurtosis:                       2.763   Cond. No.                         46.5\n",
      "==============================================================================\n",
      "\n",
      "Warnings:\n",
      "[1] Standard Errors assume that the covariance matrix of the errors is correctly specified.\n"
     ]
    }
   ],
   "source": [
    "#Modelo sin X3 = Indice de masa corporal\n",
    "y = df_norm['Y']\n",
    "x9_bmi = df_norm.iloc[: ,[0,1,3,4,5,6,7,8,9]]\n",
    "model = sm.OLS(y, x9_bmi)\n",
    "results = model.fit()\n",
    "print(results.summary())"
   ]
  },
  {
   "cell_type": "code",
   "execution_count": 442,
   "metadata": {},
   "outputs": [
    {
     "name": "stdout",
     "output_type": "stream",
     "text": [
      "                                 OLS Regression Results                                \n",
      "=======================================================================================\n",
      "Dep. Variable:                      Y   R-squared (uncentered):                   0.863\n",
      "Model:                            OLS   Adj. R-squared (uncentered):              0.860\n",
      "Method:                 Least Squares   F-statistic:                              303.3\n",
      "Date:                Mon, 06 Apr 2020   Prob (F-statistic):                   8.56e-181\n",
      "Time:                        19:31:50   Log-Likelihood:                          152.60\n",
      "No. Observations:                 442   AIC:                                     -287.2\n",
      "Df Residuals:                     433   BIC:                                     -250.4\n",
      "Df Model:                           9                                                  \n",
      "Covariance Type:            nonrobust                                                  \n",
      "==============================================================================\n",
      "                 coef    std err          t      P>|t|      [0.025      0.975]\n",
      "------------------------------------------------------------------------------\n",
      "age            0.0305      0.041      0.748      0.455      -0.050       0.111\n",
      "sex           -0.0549      0.018     -3.008      0.003      -0.091      -0.019\n",
      "bmi            0.4855      0.054      9.035      0.000       0.380       0.591\n",
      "s1            -0.4690      0.193     -2.431      0.015      -0.848      -0.090\n",
      "s2             0.2957      0.206      1.437      0.151      -0.109       0.700\n",
      "s3            -0.0297      0.068     -0.435      0.664      -0.164       0.104\n",
      "s4             0.0522      0.116      0.448      0.654      -0.177       0.281\n",
      "s5             0.5928      0.090      6.591      0.000       0.416       0.770\n",
      "s6             0.0988      0.057      1.744      0.082      -0.013       0.210\n",
      "==============================================================================\n",
      "Omnibus:                        2.702   Durbin-Watson:                   1.959\n",
      "Prob(Omnibus):                  0.259   Jarque-Bera (JB):                2.282\n",
      "Skew:                           0.063   Prob(JB):                        0.320\n",
      "Kurtosis:                       2.671   Cond. No.                         46.3\n",
      "==============================================================================\n",
      "\n",
      "Warnings:\n",
      "[1] Standard Errors assume that the covariance matrix of the errors is correctly specified.\n"
     ]
    }
   ],
   "source": [
    "#Modelo sin X4 = presionsanguinea\n",
    "y = df_norm['Y']\n",
    "x9_bp = df_norm.iloc[: ,[0,1,2,4,5,6,7,8,9]]\n",
    "model = sm.OLS(y, x9_bp)\n",
    "results = model.fit()\n",
    "print(results.summary())"
   ]
  },
  {
   "cell_type": "code",
   "execution_count": 443,
   "metadata": {},
   "outputs": [
    {
     "name": "stdout",
     "output_type": "stream",
     "text": [
      "                                 OLS Regression Results                                \n",
      "=======================================================================================\n",
      "Dep. Variable:                      Y   R-squared (uncentered):                   0.869\n",
      "Model:                            OLS   Adj. R-squared (uncentered):              0.866\n",
      "Method:                 Least Squares   F-statistic:                              318.6\n",
      "Date:                Mon, 06 Apr 2020   Prob (F-statistic):                   8.50e-185\n",
      "Time:                        19:31:50   Log-Likelihood:                          162.03\n",
      "No. Observations:                 442   AIC:                                     -306.1\n",
      "Df Residuals:                     433   BIC:                                     -269.2\n",
      "Df Model:                           9                                                  \n",
      "Covariance Type:            nonrobust                                                  \n",
      "==============================================================================\n",
      "                 coef    std err          t      P>|t|      [0.025      0.975]\n",
      "------------------------------------------------------------------------------\n",
      "age            -2e-05      0.041     -0.000      1.000      -0.080       0.080\n",
      "sex           -0.0640      0.018     -3.588      0.000      -0.099      -0.029\n",
      "bmi            0.4447      0.053      8.366      0.000       0.340       0.549\n",
      "bp             0.2494      0.050      5.005      0.000       0.151       0.347\n",
      "s2            -0.1663      0.089     -1.860      0.064      -0.342       0.009\n",
      "s3            -0.1197      0.062     -1.932      0.054      -0.242       0.002\n",
      "s4             0.1349      0.112      1.202      0.230      -0.086       0.355\n",
      "s5             0.3775      0.065      5.825      0.000       0.250       0.505\n",
      "s6             0.0739      0.056      1.331      0.184      -0.035       0.183\n",
      "==============================================================================\n",
      "Omnibus:                        2.392   Durbin-Watson:                   2.004\n",
      "Prob(Omnibus):                  0.302   Jarque-Bera (JB):                2.070\n",
      "Skew:                           0.058   Prob(JB):                        0.355\n",
      "Kurtosis:                       2.685   Cond. No.                         24.6\n",
      "==============================================================================\n",
      "\n",
      "Warnings:\n",
      "[1] Standard Errors assume that the covariance matrix of the errors is correctly specified.\n"
     ]
    }
   ],
   "source": [
    "#Modelo sin X5 = S1\n",
    "y = df_norm['Y']\n",
    "x9_s1 = df_norm.iloc[: ,[0,1,2,3,5,6,7,8,9]]\n",
    "model = sm.OLS(y, x9_s1)\n",
    "results = model.fit()\n",
    "print(results.summary())"
   ]
  },
  {
   "cell_type": "code",
   "execution_count": 444,
   "metadata": {},
   "outputs": [
    {
     "name": "stdout",
     "output_type": "stream",
     "text": [
      "                                 OLS Regression Results                                \n",
      "=======================================================================================\n",
      "Dep. Variable:                      Y   R-squared (uncentered):                   0.870\n",
      "Model:                            OLS   Adj. R-squared (uncentered):              0.867\n",
      "Method:                 Least Squares   F-statistic:                              321.7\n",
      "Date:                Mon, 06 Apr 2020   Prob (F-statistic):                   1.40e-185\n",
      "Time:                        19:31:50   Log-Likelihood:                          163.88\n",
      "No. Observations:                 442   AIC:                                     -309.8\n",
      "Df Residuals:                     433   BIC:                                     -272.9\n",
      "Df Model:                           9                                                  \n",
      "Covariance Type:            nonrobust                                                  \n",
      "==============================================================================\n",
      "                 coef    std err          t      P>|t|      [0.025      0.975]\n",
      "------------------------------------------------------------------------------\n",
      "age           -0.0026      0.040     -0.065      0.948      -0.082       0.077\n",
      "sex           -0.0689      0.018     -3.843      0.000      -0.104      -0.034\n",
      "bmi            0.4338      0.053      8.210      0.000       0.330       0.538\n",
      "bp             0.2473      0.050      4.985      0.000       0.150       0.345\n",
      "s1            -0.2227      0.083     -2.670      0.008      -0.387      -0.059\n",
      "s3            -0.0675      0.067     -1.013      0.312      -0.199       0.063\n",
      "s4             0.1552      0.098      1.583      0.114      -0.038       0.348\n",
      "s5             0.4394      0.062      7.099      0.000       0.318       0.561\n",
      "s6             0.0626      0.055      1.128      0.260      -0.046       0.172\n",
      "==============================================================================\n",
      "Omnibus:                        1.710   Durbin-Watson:                   2.021\n",
      "Prob(Omnibus):                  0.425   Jarque-Bera (JB):                1.582\n",
      "Skew:                           0.045   Prob(JB):                        0.453\n",
      "Kurtosis:                       2.721   Cond. No.                         22.4\n",
      "==============================================================================\n",
      "\n",
      "Warnings:\n",
      "[1] Standard Errors assume that the covariance matrix of the errors is correctly specified.\n"
     ]
    }
   ],
   "source": [
    "#Modelo sin X6 = S2\n",
    "y = df_norm['Y']\n",
    "x9_s2 = df_norm.iloc[: ,[0,1,2,3,4,6,7,8,9]]\n",
    "model = sm.OLS(y, x9_s2)\n",
    "results = model.fit()\n",
    "print(results.summary())"
   ]
  },
  {
   "cell_type": "code",
   "execution_count": 445,
   "metadata": {},
   "outputs": [
    {
     "name": "stdout",
     "output_type": "stream",
     "text": [
      "                                 OLS Regression Results                                \n",
      "=======================================================================================\n",
      "Dep. Variable:                      Y   R-squared (uncentered):                   0.870\n",
      "Model:                            OLS   Adj. R-squared (uncentered):              0.867\n",
      "Method:                 Least Squares   F-statistic:                              322.2\n",
      "Date:                Mon, 06 Apr 2020   Prob (F-statistic):                   1.07e-185\n",
      "Time:                        19:31:50   Log-Likelihood:                          164.15\n",
      "No. Observations:                 442   AIC:                                     -310.3\n",
      "Df Residuals:                     433   BIC:                                     -273.5\n",
      "Df Model:                           9                                                  \n",
      "Covariance Type:            nonrobust                                                  \n",
      "==============================================================================\n",
      "                 coef    std err          t      P>|t|      [0.025      0.975]\n",
      "------------------------------------------------------------------------------\n",
      "age           -0.0149      0.040     -0.374      0.709      -0.093       0.063\n",
      "sex           -0.0729      0.018     -4.021      0.000      -0.108      -0.037\n",
      "bmi            0.4203      0.054      7.783      0.000       0.314       0.526\n",
      "bp             0.2392      0.049      4.840      0.000       0.142       0.336\n",
      "s1            -0.4899      0.174     -2.817      0.005      -0.832      -0.148\n",
      "s2             0.2497      0.200      1.246      0.213      -0.144       0.644\n",
      "s4             0.1533      0.089      1.723      0.086      -0.022       0.328\n",
      "s5             0.5144      0.089      5.778      0.000       0.339       0.689\n",
      "s6             0.0381      0.053      0.712      0.477      -0.067       0.143\n",
      "==============================================================================\n",
      "Omnibus:                        1.504   Durbin-Watson:                   2.028\n",
      "Prob(Omnibus):                  0.471   Jarque-Bera (JB):                1.430\n",
      "Skew:                           0.041   Prob(JB):                        0.489\n",
      "Kurtosis:                       2.734   Cond. No.                         47.4\n",
      "==============================================================================\n",
      "\n",
      "Warnings:\n",
      "[1] Standard Errors assume that the covariance matrix of the errors is correctly specified.\n"
     ]
    }
   ],
   "source": [
    "#Modelo sin X7 = S3\n",
    "y = df_norm['Y']\n",
    "x9_s3 = df_norm.iloc[: ,[0,1,2,3,4,5,7,8,9]]\n",
    "model = sm.OLS(y, x9_s3)\n",
    "results = model.fit()\n",
    "print(results.summary())"
   ]
  },
  {
   "cell_type": "code",
   "execution_count": 446,
   "metadata": {},
   "outputs": [
    {
     "name": "stdout",
     "output_type": "stream",
     "text": [
      "                                 OLS Regression Results                                \n",
      "=======================================================================================\n",
      "Dep. Variable:                      Y   R-squared (uncentered):                   0.870\n",
      "Model:                            OLS   Adj. R-squared (uncentered):              0.867\n",
      "Method:                 Least Squares   F-statistic:                              322.4\n",
      "Date:                Mon, 06 Apr 2020   Prob (F-statistic):                   9.27e-186\n",
      "Time:                        19:31:50   Log-Likelihood:                          164.30\n",
      "No. Observations:                 442   AIC:                                     -310.6\n",
      "Df Residuals:                     433   BIC:                                     -273.8\n",
      "Df Model:                           9                                                  \n",
      "Covariance Type:            nonrobust                                                  \n",
      "==============================================================================\n",
      "                 coef    std err          t      P>|t|      [0.025      0.975]\n",
      "------------------------------------------------------------------------------\n",
      "age           -0.0078      0.041     -0.193      0.847      -0.087       0.072\n",
      "sex           -0.0704      0.018     -3.917      0.000      -0.106      -0.035\n",
      "bmi            0.4204      0.054      7.788      0.000       0.314       0.526\n",
      "bp             0.2415      0.050      4.874      0.000       0.144       0.339\n",
      "s1            -0.4497      0.185     -2.434      0.015      -0.813      -0.087\n",
      "s2             0.3159      0.173      1.825      0.069      -0.024       0.656\n",
      "s3            -0.0944      0.052     -1.807      0.071      -0.197       0.008\n",
      "s5             0.5516      0.075      7.321      0.000       0.404       0.700\n",
      "s6             0.0591      0.055      1.066      0.287      -0.050       0.168\n",
      "==============================================================================\n",
      "Omnibus:                        1.549   Durbin-Watson:                   2.028\n",
      "Prob(Omnibus):                  0.461   Jarque-Bera (JB):                1.432\n",
      "Skew:                           0.013   Prob(JB):                        0.489\n",
      "Kurtosis:                       2.722   Cond. No.                         44.1\n",
      "==============================================================================\n",
      "\n",
      "Warnings:\n",
      "[1] Standard Errors assume that the covariance matrix of the errors is correctly specified.\n"
     ]
    }
   ],
   "source": [
    "#Modelo sin X8 = S4\n",
    "y = df_norm['Y']\n",
    "x9_s4 = df_norm.iloc[: ,[0,1,2,3,4,5,6,8,9]]\n",
    "model = sm.OLS(y, x9_s4)\n",
    "results = model.fit()\n",
    "print(results.summary())"
   ]
  },
  {
   "cell_type": "code",
   "execution_count": 447,
   "metadata": {},
   "outputs": [
    {
     "name": "stdout",
     "output_type": "stream",
     "text": [
      "                                 OLS Regression Results                                \n",
      "=======================================================================================\n",
      "Dep. Variable:                      Y   R-squared (uncentered):                   0.860\n",
      "Model:                            OLS   Adj. R-squared (uncentered):              0.857\n",
      "Method:                 Least Squares   F-statistic:                              296.2\n",
      "Date:                Mon, 06 Apr 2020   Prob (F-statistic):                   7.00e-179\n",
      "Time:                        19:31:50   Log-Likelihood:                          148.09\n",
      "No. Observations:                 442   AIC:                                     -278.2\n",
      "Df Residuals:                     433   BIC:                                     -241.4\n",
      "Df Model:                           9                                                  \n",
      "Covariance Type:            nonrobust                                                  \n",
      "==============================================================================\n",
      "                 coef    std err          t      P>|t|      [0.025      0.975]\n",
      "------------------------------------------------------------------------------\n",
      "age            0.0233      0.042      0.558      0.577      -0.059       0.105\n",
      "sex           -0.0654      0.019     -3.484      0.001      -0.102      -0.029\n",
      "bmi            0.5042      0.054      9.346      0.000       0.398       0.610\n",
      "bp             0.2948      0.051      5.816      0.000       0.195       0.394\n",
      "s1             0.3280      0.141      2.320      0.021       0.050       0.606\n",
      "s2            -0.5978      0.145     -4.132      0.000      -0.882      -0.313\n",
      "s3            -0.0582      0.069     -0.841      0.401      -0.194       0.078\n",
      "s4             0.4372      0.100      4.381      0.000       0.241       0.633\n",
      "s6             0.1314      0.056      2.331      0.020       0.021       0.242\n",
      "==============================================================================\n",
      "Omnibus:                        5.423   Durbin-Watson:                   1.933\n",
      "Prob(Omnibus):                  0.066   Jarque-Bera (JB):                4.147\n",
      "Skew:                           0.120   Prob(JB):                        0.126\n",
      "Kurtosis:                       2.590   Cond. No.                         30.6\n",
      "==============================================================================\n",
      "\n",
      "Warnings:\n",
      "[1] Standard Errors assume that the covariance matrix of the errors is correctly specified.\n"
     ]
    }
   ],
   "source": [
    "#Modelo sin X9 = S5\n",
    "y = df_norm['Y']\n",
    "x9_s5 = df_norm.iloc[: ,[0,1,2,3,4,5,6,7,9]]\n",
    "model = sm.OLS(y, x9_s5)\n",
    "results = model.fit()\n",
    "print(results.summary())"
   ]
  },
  {
   "cell_type": "code",
   "execution_count": 448,
   "metadata": {},
   "outputs": [
    {
     "name": "stdout",
     "output_type": "stream",
     "text": [
      "                                 OLS Regression Results                                \n",
      "=======================================================================================\n",
      "Dep. Variable:                      Y   R-squared (uncentered):                   0.870\n",
      "Model:                            OLS   Adj. R-squared (uncentered):              0.867\n",
      "Method:                 Least Squares   F-statistic:                              322.1\n",
      "Date:                Mon, 06 Apr 2020   Prob (F-statistic):                   1.09e-185\n",
      "Time:                        19:31:50   Log-Likelihood:                          164.13\n",
      "No. Observations:                 442   AIC:                                     -310.3\n",
      "Df Residuals:                     433   BIC:                                     -273.4\n",
      "Df Model:                           9                                                  \n",
      "Covariance Type:            nonrobust                                                  \n",
      "==============================================================================\n",
      "                 coef    std err          t      P>|t|      [0.025      0.975]\n",
      "------------------------------------------------------------------------------\n",
      "age           -0.0026      0.040     -0.066      0.948      -0.082       0.076\n",
      "sex           -0.0709      0.018     -3.920      0.000      -0.106      -0.035\n",
      "bmi            0.4285      0.053      8.033      0.000       0.324       0.533\n",
      "bp             0.2517      0.049      5.138      0.000       0.155       0.348\n",
      "s1            -0.4518      0.186     -2.433      0.015      -0.817      -0.087\n",
      "s2             0.2643      0.199      1.329      0.185      -0.127       0.655\n",
      "s3            -0.0438      0.064     -0.687      0.492      -0.169       0.082\n",
      "s4             0.1012      0.113      0.898      0.370      -0.120       0.323\n",
      "s5             0.5358      0.086      6.200      0.000       0.366       0.706\n",
      "==============================================================================\n",
      "Omnibus:                        1.237   Durbin-Watson:                   2.036\n",
      "Prob(Omnibus):                  0.539   Jarque-Bera (JB):                1.222\n",
      "Skew:                           0.032   Prob(JB):                        0.543\n",
      "Kurtosis:                       2.751   Cond. No.                         45.3\n",
      "==============================================================================\n",
      "\n",
      "Warnings:\n",
      "[1] Standard Errors assume that the covariance matrix of the errors is correctly specified.\n"
     ]
    }
   ],
   "source": [
    "#Modelo sin X10 = S6\n",
    "y = df_norm['Y']\n",
    "x9_s6 = df_norm.iloc[: ,[0,1,2,3,4,5,6,7,8]]\n",
    "model = sm.OLS(y, x9_s6)\n",
    "results = model.fit()\n",
    "print(results.summary())"
   ]
  },
  {
   "cell_type": "markdown",
   "metadata": {},
   "source": [
    "La candidata a salir es la variable Edad ya que en su ausencia el modelo con 9 variables obtuvo el `Adj. R-squared` mayor al modelo con 10 variables. **`Dicho modelo también obtuvo el mejor puntaje Akika`**, esto quiere decir que el modelo mejora en ausencia de esta variable. También, en el modelo con 10 variables, la variable Edad fue la menos significativa en presencia de las demás. Por consiguiente **la variable EDAD sale del modelo.**"
   ]
  },
  {
   "cell_type": "markdown",
   "metadata": {},
   "source": [
    "##  Modelo final con 9 variables"
   ]
  },
  {
   "cell_type": "code",
   "execution_count": 449,
   "metadata": {},
   "outputs": [
    {
     "data": {
      "text/plain": [
       "Index(['sex', 'bmi', 'bp', 's1', 's2', 's3', 's4', 's5', 's6'], dtype='object')"
      ]
     },
     "execution_count": 449,
     "metadata": {},
     "output_type": "execute_result"
    }
   ],
   "source": [
    "x9 = df_norm.iloc[: ,[1,2,3,4,5,6,7,8,9]]\n",
    "x9.columns"
   ]
  },
  {
   "cell_type": "markdown",
   "metadata": {},
   "source": [
    "## Modelos con 8 variables"
   ]
  },
  {
   "cell_type": "code",
   "execution_count": 450,
   "metadata": {},
   "outputs": [
    {
     "name": "stdout",
     "output_type": "stream",
     "text": [
      "                                 OLS Regression Results                                \n",
      "=======================================================================================\n",
      "Dep. Variable:                      Y   R-squared (uncentered):                   0.865\n",
      "Model:                            OLS   Adj. R-squared (uncentered):              0.863\n",
      "Method:                 Least Squares   F-statistic:                              349.0\n",
      "Date:                Mon, 06 Apr 2020   Prob (F-statistic):                   1.03e-183\n",
      "Time:                        19:31:51   Log-Likelihood:                          156.46\n",
      "No. Observations:                 442   AIC:                                     -296.9\n",
      "Df Residuals:                     434   BIC:                                     -264.2\n",
      "Df Model:                           8                                                  \n",
      "Covariance Type:            nonrobust                                                  \n",
      "==============================================================================\n",
      "                 coef    std err          t      P>|t|      [0.025      0.975]\n",
      "------------------------------------------------------------------------------\n",
      "bmi            0.4514      0.054      8.309      0.000       0.345       0.558\n",
      "bp             0.1991      0.048      4.120      0.000       0.104       0.294\n",
      "s1            -0.2602      0.186     -1.398      0.163      -0.626       0.106\n",
      "s2             0.0994      0.200      0.497      0.619      -0.294       0.493\n",
      "s3            -0.0804      0.067     -1.208      0.228      -0.211       0.050\n",
      "s4             0.0269      0.115      0.235      0.814      -0.198       0.252\n",
      "s5             0.4848      0.089      5.423      0.000       0.309       0.660\n",
      "s6             0.0313      0.056      0.558      0.577      -0.079       0.142\n",
      "==============================================================================\n",
      "Omnibus:                        6.327   Durbin-Watson:                   2.012\n",
      "Prob(Omnibus):                  0.042   Jarque-Bera (JB):                4.584\n",
      "Skew:                           0.117   Prob(JB):                        0.101\n",
      "Kurtosis:                       2.560   Cond. No.                         41.5\n",
      "==============================================================================\n",
      "\n",
      "Warnings:\n",
      "[1] Standard Errors assume that the covariance matrix of the errors is correctly specified.\n"
     ]
    }
   ],
   "source": [
    "#Modelo sin la variable X1 = Sexo\n",
    "y = df_norm['Y']\n",
    "x8_sex = df_norm.iloc[: ,[2,3,4,5,6,7,8,9]]\n",
    "model = sm.OLS(y, x8_sex)\n",
    "results = model.fit()\n",
    "print(results.summary())"
   ]
  },
  {
   "cell_type": "code",
   "execution_count": 451,
   "metadata": {},
   "outputs": [
    {
     "name": "stdout",
     "output_type": "stream",
     "text": [
      "                                 OLS Regression Results                                \n",
      "=======================================================================================\n",
      "Dep. Variable:                      Y   R-squared (uncentered):                   0.852\n",
      "Model:                            OLS   Adj. R-squared (uncentered):              0.849\n",
      "Method:                 Least Squares   F-statistic:                              312.6\n",
      "Date:                Mon, 06 Apr 2020   Prob (F-statistic):                   8.07e-175\n",
      "Time:                        19:31:51   Log-Likelihood:                          135.55\n",
      "No. Observations:                 442   AIC:                                     -255.1\n",
      "Df Residuals:                     434   BIC:                                     -222.4\n",
      "Df Model:                           8                                                  \n",
      "Covariance Type:            nonrobust                                                  \n",
      "==============================================================================\n",
      "                 coef    std err          t      P>|t|      [0.025      0.975]\n",
      "------------------------------------------------------------------------------\n",
      "sex           -0.0925      0.019     -4.861      0.000      -0.130      -0.055\n",
      "bp             0.3364      0.050      6.689      0.000       0.238       0.435\n",
      "s1            -0.7114      0.196     -3.635      0.000      -1.096      -0.327\n",
      "s2             0.5584      0.208      2.685      0.008       0.150       0.967\n",
      "s3            -0.0628      0.070     -0.899      0.369      -0.200       0.075\n",
      "s4             0.0841      0.121      0.694      0.488      -0.154       0.322\n",
      "s5             0.6982      0.091      7.711      0.000       0.520       0.876\n",
      "s6             0.1193      0.058      2.043      0.042       0.005       0.234\n",
      "==============================================================================\n",
      "Omnibus:                        1.934   Durbin-Watson:                   2.087\n",
      "Prob(Omnibus):                  0.380   Jarque-Bera (JB):                1.937\n",
      "Skew:                           0.112   Prob(JB):                        0.380\n",
      "Kurtosis:                       2.765   Cond. No.                         43.0\n",
      "==============================================================================\n",
      "\n",
      "Warnings:\n",
      "[1] Standard Errors assume that the covariance matrix of the errors is correctly specified.\n"
     ]
    }
   ],
   "source": [
    "# Modelo sin la variable X2 = indice de masa corporal\n",
    "y = df_norm['Y']\n",
    "x8_bmi = df_norm.iloc[: ,[1,3,4,5,6,7,8,9]]\n",
    "model = sm.OLS(y, x8_bmi)\n",
    "results = model.fit()\n",
    "print(results.summary())"
   ]
  },
  {
   "cell_type": "code",
   "execution_count": 452,
   "metadata": {},
   "outputs": [
    {
     "name": "stdout",
     "output_type": "stream",
     "text": [
      "                                 OLS Regression Results                                \n",
      "=======================================================================================\n",
      "Dep. Variable:                      Y   R-squared (uncentered):                   0.863\n",
      "Model:                            OLS   Adj. R-squared (uncentered):              0.860\n",
      "Method:                 Least Squares   F-statistic:                              341.5\n",
      "Date:                Mon, 06 Apr 2020   Prob (F-statistic):                   5.93e-182\n",
      "Time:                        19:31:51   Log-Likelihood:                          152.32\n",
      "No. Observations:                 442   AIC:                                     -288.6\n",
      "Df Residuals:                     434   BIC:                                     -255.9\n",
      "Df Model:                           8                                                  \n",
      "Covariance Type:            nonrobust                                                  \n",
      "==============================================================================\n",
      "                 coef    std err          t      P>|t|      [0.025      0.975]\n",
      "------------------------------------------------------------------------------\n",
      "sex           -0.0530      0.018     -2.933      0.004      -0.088      -0.017\n",
      "bmi            0.4873      0.054      9.082      0.000       0.382       0.593\n",
      "s1            -0.4831      0.192     -2.518      0.012      -0.860      -0.106\n",
      "s2             0.3146      0.204      1.541      0.124      -0.087       0.716\n",
      "s3            -0.0190      0.067     -0.285      0.776      -0.150       0.112\n",
      "s4             0.0512      0.116      0.440      0.660      -0.178       0.280\n",
      "s5             0.6044      0.089      6.826      0.000       0.430       0.778\n",
      "s6             0.1061      0.056      1.902      0.058      -0.004       0.216\n",
      "==============================================================================\n",
      "Omnibus:                        2.252   Durbin-Watson:                   1.956\n",
      "Prob(Omnibus):                  0.324   Jarque-Bera (JB):                1.971\n",
      "Skew:                           0.055   Prob(JB):                        0.373\n",
      "Kurtosis:                       2.692   Cond. No.                         42.6\n",
      "==============================================================================\n",
      "\n",
      "Warnings:\n",
      "[1] Standard Errors assume that the covariance matrix of the errors is correctly specified.\n"
     ]
    }
   ],
   "source": [
    "# Modelo sin la variable X3 = Presión Sanguínea\n",
    "y = df_norm['Y']\n",
    "x8_bp = df_norm.iloc[: ,[1,2,4,5,6,7,8,9]]\n",
    "model = sm.OLS(y, x8_bp)\n",
    "results = model.fit()\n",
    "print(results.summary())"
   ]
  },
  {
   "cell_type": "code",
   "execution_count": 453,
   "metadata": {},
   "outputs": [
    {
     "name": "stdout",
     "output_type": "stream",
     "text": [
      "                                 OLS Regression Results                                \n",
      "=======================================================================================\n",
      "Dep. Variable:                      Y   R-squared (uncentered):                   0.869\n",
      "Model:                            OLS   Adj. R-squared (uncentered):              0.866\n",
      "Method:                 Least Squares   F-statistic:                              359.3\n",
      "Date:                Mon, 06 Apr 2020   Prob (F-statistic):                   4.34e-186\n",
      "Time:                        19:31:51   Log-Likelihood:                          162.03\n",
      "No. Observations:                 442   AIC:                                     -308.1\n",
      "Df Residuals:                     434   BIC:                                     -275.3\n",
      "Df Model:                           8                                                  \n",
      "Covariance Type:            nonrobust                                                  \n",
      "==============================================================================\n",
      "                 coef    std err          t      P>|t|      [0.025      0.975]\n",
      "------------------------------------------------------------------------------\n",
      "sex           -0.0640      0.018     -3.619      0.000      -0.099      -0.029\n",
      "bmi            0.4447      0.053      8.376      0.000       0.340       0.549\n",
      "bp             0.2494      0.049      5.112      0.000       0.154       0.345\n",
      "s2            -0.1663      0.089     -1.867      0.063      -0.341       0.009\n",
      "s3            -0.1198      0.061     -1.961      0.051      -0.240       0.000\n",
      "s4             0.1349      0.112      1.204      0.229      -0.085       0.355\n",
      "s5             0.3775      0.064      5.862      0.000       0.251       0.504\n",
      "s6             0.0739      0.055      1.348      0.178      -0.034       0.182\n",
      "==============================================================================\n",
      "Omnibus:                        2.392   Durbin-Watson:                   2.004\n",
      "Prob(Omnibus):                  0.302   Jarque-Bera (JB):                2.070\n",
      "Skew:                           0.058   Prob(JB):                        0.355\n",
      "Kurtosis:                       2.685   Cond. No.                         22.8\n",
      "==============================================================================\n",
      "\n",
      "Warnings:\n",
      "[1] Standard Errors assume that the covariance matrix of the errors is correctly specified.\n"
     ]
    }
   ],
   "source": [
    "# Modelo sin la variable X4 = S1\n",
    "y = df_norm['Y']\n",
    "x8_s1 = df_norm.iloc[: ,[1,2,3,5,6,7,8,9]]\n",
    "model = sm.OLS(y, x8_s1)\n",
    "results = model.fit()\n",
    "print(results.summary())"
   ]
  },
  {
   "cell_type": "code",
   "execution_count": 454,
   "metadata": {},
   "outputs": [
    {
     "name": "stdout",
     "output_type": "stream",
     "text": [
      "                                 OLS Regression Results                                \n",
      "=======================================================================================\n",
      "Dep. Variable:                      Y   R-squared (uncentered):                   0.870\n",
      "Model:                            OLS   Adj. R-squared (uncentered):              0.868\n",
      "Method:                 Least Squares   F-statistic:                              362.8\n",
      "Date:                Mon, 06 Apr 2020   Prob (F-statistic):                   7.11e-187\n",
      "Time:                        19:31:51   Log-Likelihood:                          163.88\n",
      "No. Observations:                 442   AIC:                                     -311.8\n",
      "Df Residuals:                     434   BIC:                                     -279.0\n",
      "Df Model:                           8                                                  \n",
      "Covariance Type:            nonrobust                                                  \n",
      "==============================================================================\n",
      "                 coef    std err          t      P>|t|      [0.025      0.975]\n",
      "------------------------------------------------------------------------------\n",
      "sex           -0.0690      0.018     -3.884      0.000      -0.104      -0.034\n",
      "bmi            0.4338      0.053      8.219      0.000       0.330       0.538\n",
      "bp             0.2466      0.049      5.081      0.000       0.151       0.342\n",
      "s1            -0.2228      0.083     -2.675      0.008      -0.387      -0.059\n",
      "s3            -0.0683      0.065     -1.043      0.298      -0.197       0.060\n",
      "s4             0.1548      0.098      1.584      0.114      -0.037       0.347\n",
      "s5             0.4391      0.062      7.125      0.000       0.318       0.560\n",
      "s6             0.0621      0.055      1.133      0.258      -0.046       0.170\n",
      "==============================================================================\n",
      "Omnibus:                        1.722   Durbin-Watson:                   2.021\n",
      "Prob(Omnibus):                  0.423   Jarque-Bera (JB):                1.592\n",
      "Skew:                           0.046   Prob(JB):                        0.451\n",
      "Kurtosis:                       2.720   Cond. No.                         20.8\n",
      "==============================================================================\n",
      "\n",
      "Warnings:\n",
      "[1] Standard Errors assume that the covariance matrix of the errors is correctly specified.\n"
     ]
    }
   ],
   "source": [
    "# Modelo sin la variable X5 = S2\n",
    "y = df_norm['Y']\n",
    "x8_s2 = df_norm.iloc[: ,[1,2,3,4,6,7,8,9]]\n",
    "model = sm.OLS(y, x8_s2)\n",
    "results = model.fit()\n",
    "print(results.summary())"
   ]
  },
  {
   "cell_type": "code",
   "execution_count": 455,
   "metadata": {},
   "outputs": [
    {
     "name": "stdout",
     "output_type": "stream",
     "text": [
      "                                 OLS Regression Results                                \n",
      "=======================================================================================\n",
      "Dep. Variable:                      Y   R-squared (uncentered):                   0.870\n",
      "Model:                            OLS   Adj. R-squared (uncentered):              0.868\n",
      "Method:                 Least Squares   F-statistic:                              363.2\n",
      "Date:                Mon, 06 Apr 2020   Prob (F-statistic):                   5.85e-187\n",
      "Time:                        19:31:51   Log-Likelihood:                          164.08\n",
      "No. Observations:                 442   AIC:                                     -312.2\n",
      "Df Residuals:                     434   BIC:                                     -279.4\n",
      "Df Model:                           8                                                  \n",
      "Covariance Type:            nonrobust                                                  \n",
      "==============================================================================\n",
      "                 coef    std err          t      P>|t|      [0.025      0.975]\n",
      "------------------------------------------------------------------------------\n",
      "sex           -0.0736      0.018     -4.092      0.000      -0.109      -0.038\n",
      "bmi            0.4203      0.054      7.793      0.000       0.314       0.526\n",
      "bp             0.2352      0.048      4.880      0.000       0.140       0.330\n",
      "s1            -0.4888      0.174     -2.813      0.005      -0.830      -0.147\n",
      "s2             0.2423      0.199      1.216      0.225      -0.149       0.634\n",
      "s4             0.1582      0.088      1.800      0.073      -0.015       0.331\n",
      "s5             0.5098      0.088      5.787      0.000       0.337       0.683\n",
      "s6             0.0341      0.052      0.651      0.516      -0.069       0.137\n",
      "==============================================================================\n",
      "Omnibus:                        1.585   Durbin-Watson:                   2.027\n",
      "Prob(Omnibus):                  0.453   Jarque-Bera (JB):                1.499\n",
      "Skew:                           0.048   Prob(JB):                        0.473\n",
      "Kurtosis:                       2.731   Cond. No.                         44.0\n",
      "==============================================================================\n",
      "\n",
      "Warnings:\n",
      "[1] Standard Errors assume that the covariance matrix of the errors is correctly specified.\n"
     ]
    }
   ],
   "source": [
    "# Modelo sin la variable X6 = S3\n",
    "y = df_norm['Y']\n",
    "x8_s3 = df_norm.iloc[: ,[1,2,3,4,5,7,8,9]]\n",
    "model = sm.OLS(y, x8_s3)\n",
    "results = model.fit()\n",
    "print(results.summary())"
   ]
  },
  {
   "cell_type": "code",
   "execution_count": 456,
   "metadata": {},
   "outputs": [
    {
     "name": "stdout",
     "output_type": "stream",
     "text": [
      "                                 OLS Regression Results                                \n",
      "=======================================================================================\n",
      "Dep. Variable:                      Y   R-squared (uncentered):                   0.870\n",
      "Model:                            OLS   Adj. R-squared (uncentered):              0.868\n",
      "Method:                 Least Squares   F-statistic:                              363.5\n",
      "Date:                Mon, 06 Apr 2020   Prob (F-statistic):                   4.80e-187\n",
      "Time:                        19:31:51   Log-Likelihood:                          164.28\n",
      "No. Observations:                 442   AIC:                                     -312.6\n",
      "Df Residuals:                     434   BIC:                                     -279.8\n",
      "Df Model:                           8                                                  \n",
      "Covariance Type:            nonrobust                                                  \n",
      "==============================================================================\n",
      "                 coef    std err          t      P>|t|      [0.025      0.975]\n",
      "------------------------------------------------------------------------------\n",
      "sex           -0.0708      0.018     -3.962      0.000      -0.106      -0.036\n",
      "bmi            0.4204      0.054      7.798      0.000       0.314       0.526\n",
      "bp             0.2396      0.049      4.935      0.000       0.144       0.335\n",
      "s1            -0.4465      0.184     -2.429      0.016      -0.808      -0.085\n",
      "s2             0.3116      0.171      1.817      0.070      -0.025       0.649\n",
      "s3            -0.0968      0.051     -1.908      0.057      -0.196       0.003\n",
      "s5             0.5493      0.074      7.391      0.000       0.403       0.695\n",
      "s6             0.0577      0.055      1.051      0.294      -0.050       0.166\n",
      "==============================================================================\n",
      "Omnibus:                        1.578   Durbin-Watson:                   2.028\n",
      "Prob(Omnibus):                  0.454   Jarque-Bera (JB):                1.453\n",
      "Skew:                           0.015   Prob(JB):                        0.483\n",
      "Kurtosis:                       2.721   Cond. No.                         40.8\n",
      "==============================================================================\n",
      "\n",
      "Warnings:\n",
      "[1] Standard Errors assume that the covariance matrix of the errors is correctly specified.\n"
     ]
    }
   ],
   "source": [
    "# Modelo sin la variable X7 = S4\n",
    "y = df_norm['Y']\n",
    "x8_s4 = df_norm.iloc[: ,[1,2,3,4,5,6,8,9]]\n",
    "model = sm.OLS(y, x8_s4)\n",
    "results = model.fit()\n",
    "print(results.summary())"
   ]
  },
  {
   "cell_type": "code",
   "execution_count": 457,
   "metadata": {},
   "outputs": [
    {
     "name": "stdout",
     "output_type": "stream",
     "text": [
      "                                 OLS Regression Results                                \n",
      "=======================================================================================\n",
      "Dep. Variable:                      Y   R-squared (uncentered):                   0.860\n",
      "Model:                            OLS   Adj. R-squared (uncentered):              0.858\n",
      "Method:                 Least Squares   F-statistic:                              333.7\n",
      "Date:                Mon, 06 Apr 2020   Prob (F-statistic):                   4.34e-180\n",
      "Time:                        19:31:51   Log-Likelihood:                          147.94\n",
      "No. Observations:                 442   AIC:                                     -279.9\n",
      "Df Residuals:                     434   BIC:                                     -247.1\n",
      "Df Model:                           8                                                  \n",
      "Covariance Type:            nonrobust                                                  \n",
      "==============================================================================\n",
      "                 coef    std err          t      P>|t|      [0.025      0.975]\n",
      "------------------------------------------------------------------------------\n",
      "sex           -0.0642      0.019     -3.446      0.001      -0.101      -0.028\n",
      "bmi            0.5052      0.054      9.376      0.000       0.399       0.611\n",
      "bp             0.3011      0.049      6.096      0.000       0.204       0.398\n",
      "s1             0.3285      0.141      2.326      0.020       0.051       0.606\n",
      "s2            -0.5962      0.145     -4.125      0.000      -0.880      -0.312\n",
      "s3            -0.0509      0.068     -0.749      0.454      -0.184       0.083\n",
      "s4             0.4419      0.099      4.449      0.000       0.247       0.637\n",
      "s6             0.1368      0.055      2.467      0.014       0.028       0.246\n",
      "==============================================================================\n",
      "Omnibus:                        5.372   Durbin-Watson:                   1.933\n",
      "Prob(Omnibus):                  0.068   Jarque-Bera (JB):                4.068\n",
      "Skew:                           0.113   Prob(JB):                        0.131\n",
      "Kurtosis:                       2.588   Cond. No.                         28.3\n",
      "==============================================================================\n",
      "\n",
      "Warnings:\n",
      "[1] Standard Errors assume that the covariance matrix of the errors is correctly specified.\n"
     ]
    }
   ],
   "source": [
    "# Modelo sin la variable X8 = S5\n",
    "y = df_norm['Y']\n",
    "x8_s5 = df_norm.iloc[: ,[1,2,3,4,5,6,7,9]]\n",
    "model = sm.OLS(y, x8_s5)\n",
    "results = model.fit()\n",
    "print(results.summary())"
   ]
  },
  {
   "cell_type": "code",
   "execution_count": 458,
   "metadata": {},
   "outputs": [
    {
     "name": "stdout",
     "output_type": "stream",
     "text": [
      "                                 OLS Regression Results                                \n",
      "=======================================================================================\n",
      "Dep. Variable:                      Y   R-squared (uncentered):                   0.870\n",
      "Model:                            OLS   Adj. R-squared (uncentered):              0.868\n",
      "Method:                 Least Squares   F-statistic:                              363.2\n",
      "Date:                Mon, 06 Apr 2020   Prob (F-statistic):                   5.56e-187\n",
      "Time:                        19:31:51   Log-Likelihood:                          164.13\n",
      "No. Observations:                 442   AIC:                                     -312.3\n",
      "Df Residuals:                     434   BIC:                                     -279.5\n",
      "Df Model:                           8                                                  \n",
      "Covariance Type:            nonrobust                                                  \n",
      "==============================================================================\n",
      "                 coef    std err          t      P>|t|      [0.025      0.975]\n",
      "------------------------------------------------------------------------------\n",
      "sex           -0.0710      0.018     -3.957      0.000      -0.106      -0.036\n",
      "bmi            0.4285      0.053      8.042      0.000       0.324       0.533\n",
      "bp             0.2510      0.048      5.258      0.000       0.157       0.345\n",
      "s1            -0.4504      0.184     -2.444      0.015      -0.813      -0.088\n",
      "s2             0.2626      0.197      1.333      0.183      -0.125       0.650\n",
      "s3            -0.0448      0.062     -0.724      0.469      -0.166       0.077\n",
      "s4             0.1011      0.113      0.898      0.370      -0.120       0.322\n",
      "s5             0.5348      0.085      6.289      0.000       0.368       0.702\n",
      "==============================================================================\n",
      "Omnibus:                        1.251   Durbin-Watson:                   2.036\n",
      "Prob(Omnibus):                  0.535   Jarque-Bera (JB):                1.234\n",
      "Skew:                           0.033   Prob(JB):                        0.540\n",
      "Kurtosis:                       2.750   Cond. No.                         41.6\n",
      "==============================================================================\n",
      "\n",
      "Warnings:\n",
      "[1] Standard Errors assume that the covariance matrix of the errors is correctly specified.\n"
     ]
    }
   ],
   "source": [
    "# Modelo sin la variable X9 = S6\n",
    "y = df_norm['Y']\n",
    "x8_s6 = df_norm.iloc[: ,[1,2,3,4,5,6,7,8]]\n",
    "model = sm.OLS(y, x8_s6)\n",
    "results = model.fit()\n",
    "print(results.summary())"
   ]
  },
  {
   "cell_type": "markdown",
   "metadata": {},
   "source": [
    "Las candidatas a salir son S3, S4 y S6 ya que el **`Adj. R-squared` para cada modelo sin las candidatas a salir es de 0.868** igual que el modelo con 9 variables pero con un **`puntaje AKIKE menor a -312`**, que es menor que el modelo anterior. Pero en el modelo con 9 variables vemos que la variable menos significativa en presencia de las demás es S4. Por tanto **`S4 sale del modelo`**"
   ]
  },
  {
   "cell_type": "markdown",
   "metadata": {},
   "source": [
    "## Modelo final con 8 variables"
   ]
  },
  {
   "cell_type": "code",
   "execution_count": 459,
   "metadata": {},
   "outputs": [
    {
     "data": {
      "text/plain": [
       "Index(['sex', 'bmi', 'bp', 's1', 's2', 's3', 's5', 's6'], dtype='object')"
      ]
     },
     "execution_count": 459,
     "metadata": {},
     "output_type": "execute_result"
    }
   ],
   "source": [
    "x8 = df_norm.iloc[: ,[1,2,3,4,5,6,8,9]]\n",
    "x8.columns"
   ]
  },
  {
   "cell_type": "markdown",
   "metadata": {},
   "source": [
    "### Modelos con 7 variables"
   ]
  },
  {
   "cell_type": "code",
   "execution_count": 460,
   "metadata": {},
   "outputs": [
    {
     "name": "stdout",
     "output_type": "stream",
     "text": [
      "                                 OLS Regression Results                                \n",
      "=======================================================================================\n",
      "Dep. Variable:                      Y   R-squared (uncentered):                   0.865\n",
      "Model:                            OLS   Adj. R-squared (uncentered):              0.863\n",
      "Method:                 Least Squares   F-statistic:                              399.7\n",
      "Date:                Mon, 06 Apr 2020   Prob (F-statistic):                   5.08e-185\n",
      "Time:                        19:31:52   Log-Likelihood:                          156.43\n",
      "No. Observations:                 442   AIC:                                     -298.9\n",
      "Df Residuals:                     435   BIC:                                     -270.2\n",
      "Df Model:                           7                                                  \n",
      "Covariance Type:            nonrobust                                                  \n",
      "==============================================================================\n",
      "                 coef    std err          t      P>|t|      [0.025      0.975]\n",
      "------------------------------------------------------------------------------\n",
      "bmi            0.4511      0.054      8.315      0.000       0.344       0.558\n",
      "bp             0.1987      0.048      4.118      0.000       0.104       0.294\n",
      "s1            -0.2700      0.181     -1.489      0.137      -0.626       0.086\n",
      "s2             0.1250      0.168      0.746      0.456      -0.205       0.455\n",
      "s3            -0.0903      0.052     -1.752      0.080      -0.192       0.011\n",
      "s5             0.4964      0.074      6.678      0.000       0.350       0.643\n",
      "s6             0.0332      0.055      0.599      0.549      -0.076       0.142\n",
      "==============================================================================\n",
      "Omnibus:                        6.234   Durbin-Watson:                   2.013\n",
      "Prob(Omnibus):                  0.044   Jarque-Bera (JB):                4.508\n",
      "Skew:                           0.114   Prob(JB):                        0.105\n",
      "Kurtosis:                       2.561   Cond. No.                         36.1\n",
      "==============================================================================\n",
      "\n",
      "Warnings:\n",
      "[1] Standard Errors assume that the covariance matrix of the errors is correctly specified.\n"
     ]
    }
   ],
   "source": [
    "# Modelo sin la variable X1 = Sexo\n",
    "y = df_norm['Y']\n",
    "x7_sex = df_norm.iloc[: ,[2,3,4,5,6,8,9]]\n",
    "model = sm.OLS(y, x7_sex)\n",
    "results = model.fit()\n",
    "print(results.summary())"
   ]
  },
  {
   "cell_type": "code",
   "execution_count": 461,
   "metadata": {},
   "outputs": [
    {
     "name": "stdout",
     "output_type": "stream",
     "text": [
      "                                 OLS Regression Results                                \n",
      "=======================================================================================\n",
      "Dep. Variable:                      Y   R-squared (uncentered):                   0.852\n",
      "Model:                            OLS   Adj. R-squared (uncentered):              0.850\n",
      "Method:                 Least Squares   F-statistic:                              357.6\n",
      "Date:                Mon, 06 Apr 2020   Prob (F-statistic):                   5.23e-176\n",
      "Time:                        19:31:52   Log-Likelihood:                          135.30\n",
      "No. Observations:                 442   AIC:                                     -256.6\n",
      "Df Residuals:                     435   BIC:                                     -228.0\n",
      "Df Model:                           7                                                  \n",
      "Covariance Type:            nonrobust                                                  \n",
      "==============================================================================\n",
      "                 coef    std err          t      P>|t|      [0.025      0.975]\n",
      "------------------------------------------------------------------------------\n",
      "sex           -0.0908      0.019     -4.814      0.000      -0.128      -0.054\n",
      "bp             0.3341      0.050      6.662      0.000       0.236       0.433\n",
      "s1            -0.7375      0.192     -3.842      0.000      -1.115      -0.360\n",
      "s2             0.6336      0.178      3.569      0.000       0.285       0.982\n",
      "s3            -0.0936      0.054     -1.730      0.084      -0.200       0.013\n",
      "s5             0.7333      0.075      9.755      0.000       0.586       0.881\n",
      "s6             0.1247      0.058      2.156      0.032       0.011       0.238\n",
      "==============================================================================\n",
      "Omnibus:                        1.794   Durbin-Watson:                   2.089\n",
      "Prob(Omnibus):                  0.408   Jarque-Bera (JB):                1.803\n",
      "Skew:                           0.104   Prob(JB):                        0.406\n",
      "Kurtosis:                       2.766   Cond. No.                         38.1\n",
      "==============================================================================\n",
      "\n",
      "Warnings:\n",
      "[1] Standard Errors assume that the covariance matrix of the errors is correctly specified.\n"
     ]
    }
   ],
   "source": [
    "# Modelo sin la variable X2 = Índice de Masa Corporal\n",
    "y = df_norm['Y']\n",
    "x7_bmi = df_norm.iloc[: ,[1,3,4,5,6,8,9]]\n",
    "model = sm.OLS(y, x7_bmi)\n",
    "results = model.fit()\n",
    "print(results.summary())"
   ]
  },
  {
   "cell_type": "code",
   "execution_count": 462,
   "metadata": {},
   "outputs": [
    {
     "name": "stdout",
     "output_type": "stream",
     "text": [
      "                                 OLS Regression Results                                \n",
      "=======================================================================================\n",
      "Dep. Variable:                      Y   R-squared (uncentered):                   0.863\n",
      "Model:                            OLS   Adj. R-squared (uncentered):              0.861\n",
      "Method:                 Least Squares   F-statistic:                              391.0\n",
      "Date:                Mon, 06 Apr 2020   Prob (F-statistic):                   3.18e-183\n",
      "Time:                        19:31:52   Log-Likelihood:                          152.22\n",
      "No. Observations:                 442   AIC:                                     -290.4\n",
      "Df Residuals:                     435   BIC:                                     -261.8\n",
      "Df Model:                           7                                                  \n",
      "Covariance Type:            nonrobust                                                  \n",
      "==============================================================================\n",
      "                 coef    std err          t      P>|t|      [0.025      0.975]\n",
      "------------------------------------------------------------------------------\n",
      "sex           -0.0520      0.018     -2.904      0.004      -0.087      -0.017\n",
      "bmi            0.4868      0.054      9.084      0.000       0.381       0.592\n",
      "s1            -0.4987      0.188     -2.647      0.008      -0.869      -0.128\n",
      "s2             0.3601      0.176      2.049      0.041       0.015       0.705\n",
      "s3            -0.0380      0.051     -0.751      0.453      -0.137       0.061\n",
      "s5             0.6253      0.075      8.378      0.000       0.479       0.772\n",
      "s6             0.1091      0.055      1.972      0.049       0.000       0.218\n",
      "==============================================================================\n",
      "Omnibus:                        2.224   Durbin-Watson:                   1.958\n",
      "Prob(Omnibus):                  0.329   Jarque-Bera (JB):                1.935\n",
      "Skew:                           0.048   Prob(JB):                        0.380\n",
      "Kurtosis:                       2.690   Cond. No.                         37.8\n",
      "==============================================================================\n",
      "\n",
      "Warnings:\n",
      "[1] Standard Errors assume that the covariance matrix of the errors is correctly specified.\n"
     ]
    }
   ],
   "source": [
    "# Modelo sin la variable X3 = Presión Sanguínea\n",
    "y = df_norm['Y']\n",
    "x7_bp = df_norm.iloc[: ,[1,2,4,5,6,8,9]]\n",
    "model = sm.OLS(y, x7_bp)\n",
    "results = model.fit()\n",
    "print(results.summary())"
   ]
  },
  {
   "cell_type": "code",
   "execution_count": 463,
   "metadata": {},
   "outputs": [
    {
     "name": "stdout",
     "output_type": "stream",
     "text": [
      "                                 OLS Regression Results                                \n",
      "=======================================================================================\n",
      "Dep. Variable:                      Y   R-squared (uncentered):                   0.868\n",
      "Model:                            OLS   Adj. R-squared (uncentered):              0.866\n",
      "Method:                 Least Squares   F-statistic:                              410.0\n",
      "Date:                Mon, 06 Apr 2020   Prob (F-statistic):                   4.26e-187\n",
      "Time:                        19:31:52   Log-Likelihood:                          161.30\n",
      "No. Observations:                 442   AIC:                                     -308.6\n",
      "Df Residuals:                     435   BIC:                                     -280.0\n",
      "Df Model:                           7                                                  \n",
      "Covariance Type:            nonrobust                                                  \n",
      "==============================================================================\n",
      "                 coef    std err          t      P>|t|      [0.025      0.975]\n",
      "------------------------------------------------------------------------------\n",
      "sex           -0.0603      0.017     -3.458      0.001      -0.094      -0.026\n",
      "bmi            0.4470      0.053      8.420      0.000       0.343       0.551\n",
      "bp             0.2464      0.049      5.054      0.000       0.151       0.342\n",
      "s2            -0.0826      0.056     -1.483      0.139      -0.192       0.027\n",
      "s3            -0.1765      0.039     -4.540      0.000      -0.253      -0.100\n",
      "s5             0.4218      0.053      7.973      0.000       0.318       0.526\n",
      "s6             0.0852      0.054      1.576      0.116      -0.021       0.191\n",
      "==============================================================================\n",
      "Omnibus:                        2.385   Durbin-Watson:                   2.008\n",
      "Prob(Omnibus):                  0.304   Jarque-Bera (JB):                2.040\n",
      "Skew:                           0.048   Prob(JB):                        0.361\n",
      "Kurtosis:                       2.681   Cond. No.                         9.49\n",
      "==============================================================================\n",
      "\n",
      "Warnings:\n",
      "[1] Standard Errors assume that the covariance matrix of the errors is correctly specified.\n"
     ]
    }
   ],
   "source": [
    "# Modelo sin la variable X4 = S1\n",
    "y = df_norm['Y']\n",
    "x7_s1 = df_norm.iloc[: ,[1,2,3,5,6,8,9]]\n",
    "model = sm.OLS(y, x7_s1)\n",
    "results = model.fit()\n",
    "print(results.summary())"
   ]
  },
  {
   "cell_type": "code",
   "execution_count": 464,
   "metadata": {},
   "outputs": [
    {
     "name": "stdout",
     "output_type": "stream",
     "text": [
      "                                 OLS Regression Results                                \n",
      "=======================================================================================\n",
      "Dep. Variable:                      Y   R-squared (uncentered):                   0.869\n",
      "Model:                            OLS   Adj. R-squared (uncentered):              0.867\n",
      "Method:                 Least Squares   F-statistic:                              412.8\n",
      "Date:                Mon, 06 Apr 2020   Prob (F-statistic):                   1.18e-187\n",
      "Time:                        19:31:52   Log-Likelihood:                          162.61\n",
      "No. Observations:                 442   AIC:                                     -311.2\n",
      "Df Residuals:                     435   BIC:                                     -282.6\n",
      "Df Model:                           7                                                  \n",
      "Covariance Type:            nonrobust                                                  \n",
      "==============================================================================\n",
      "                 coef    std err          t      P>|t|      [0.025      0.975]\n",
      "------------------------------------------------------------------------------\n",
      "sex           -0.0619      0.017     -3.592      0.000      -0.096      -0.028\n",
      "bmi            0.4440      0.052      8.463      0.000       0.341       0.547\n",
      "bp             0.2447      0.049      5.034      0.000       0.149       0.340\n",
      "s1            -0.1304      0.060     -2.190      0.029      -0.247      -0.013\n",
      "s3            -0.1473      0.043     -3.465      0.001      -0.231      -0.064\n",
      "s5             0.4671      0.059      7.899      0.000       0.351       0.583\n",
      "s6             0.0835      0.053      1.571      0.117      -0.021       0.188\n",
      "==============================================================================\n",
      "Omnibus:                        1.745   Durbin-Watson:                   2.025\n",
      "Prob(Omnibus):                  0.418   Jarque-Bera (JB):                1.594\n",
      "Skew:                           0.037   Prob(JB):                        0.451\n",
      "Kurtosis:                       2.715   Cond. No.                         11.6\n",
      "==============================================================================\n",
      "\n",
      "Warnings:\n",
      "[1] Standard Errors assume that the covariance matrix of the errors is correctly specified.\n"
     ]
    }
   ],
   "source": [
    "# Modelo sin la variable X5 = S2\n",
    "y = df_norm['Y']\n",
    "x7_s2 = df_norm.iloc[: ,[1,2,3,4,6,8,9]]\n",
    "model = sm.OLS(y, x7_s2)\n",
    "results = model.fit()\n",
    "print(results.summary())"
   ]
  },
  {
   "cell_type": "code",
   "execution_count": 465,
   "metadata": {},
   "outputs": [
    {
     "name": "stdout",
     "output_type": "stream",
     "text": [
      "                                 OLS Regression Results                                \n",
      "=======================================================================================\n",
      "Dep. Variable:                      Y   R-squared (uncentered):                   0.869\n",
      "Model:                            OLS   Adj. R-squared (uncentered):              0.867\n",
      "Method:                 Least Squares   F-statistic:                              412.4\n",
      "Date:                Mon, 06 Apr 2020   Prob (F-statistic):                   1.39e-187\n",
      "Time:                        19:31:52   Log-Likelihood:                          162.44\n",
      "No. Observations:                 442   AIC:                                     -310.9\n",
      "Df Residuals:                     435   BIC:                                     -282.2\n",
      "Df Model:                           7                                                  \n",
      "Covariance Type:            nonrobust                                                  \n",
      "==============================================================================\n",
      "                 coef    std err          t      P>|t|      [0.025      0.975]\n",
      "------------------------------------------------------------------------------\n",
      "sex           -0.0697      0.018     -3.891      0.000      -0.105      -0.034\n",
      "bmi            0.4196      0.054      7.759      0.000       0.313       0.526\n",
      "bp             0.2179      0.047      4.602      0.000       0.125       0.311\n",
      "s1            -0.6735      0.141     -4.793      0.000      -0.950      -0.397\n",
      "s2             0.4910      0.144      3.414      0.001       0.208       0.774\n",
      "s5             0.6151      0.066      9.313      0.000       0.485       0.745\n",
      "s6             0.0244      0.052      0.467      0.641      -0.078       0.127\n",
      "==============================================================================\n",
      "Omnibus:                        1.584   Durbin-Watson:                   2.035\n",
      "Prob(Omnibus):                  0.453   Jarque-Bera (JB):                1.490\n",
      "Skew:                           0.043   Prob(JB):                        0.475\n",
      "Kurtosis:                       2.729   Cond. No.                         31.0\n",
      "==============================================================================\n",
      "\n",
      "Warnings:\n",
      "[1] Standard Errors assume that the covariance matrix of the errors is correctly specified.\n"
     ]
    }
   ],
   "source": [
    "# Modelo sin la variable X6 = S3\n",
    "y = df_norm['Y']\n",
    "x7_s3 = df_norm.iloc[: ,[1,2,3,4,5,8,9]]\n",
    "model = sm.OLS(y, x7_s3)\n",
    "results = model.fit()\n",
    "print(results.summary())"
   ]
  },
  {
   "cell_type": "code",
   "execution_count": 466,
   "metadata": {},
   "outputs": [
    {
     "name": "stdout",
     "output_type": "stream",
     "text": [
      "                                 OLS Regression Results                                \n",
      "=======================================================================================\n",
      "Dep. Variable:                      Y   R-squared (uncentered):                   0.854\n",
      "Model:                            OLS   Adj. R-squared (uncentered):              0.851\n",
      "Method:                 Least Squares   F-statistic:                              362.9\n",
      "Date:                Mon, 06 Apr 2020   Prob (F-statistic):                   3.42e-177\n",
      "Time:                        19:31:52   Log-Likelihood:                          138.08\n",
      "No. Observations:                 442   AIC:                                     -262.2\n",
      "Df Residuals:                     435   BIC:                                     -233.5\n",
      "Df Model:                           7                                                  \n",
      "Covariance Type:            nonrobust                                                  \n",
      "==============================================================================\n",
      "                 coef    std err          t      P>|t|      [0.025      0.975]\n",
      "------------------------------------------------------------------------------\n",
      "sex           -0.0471      0.019     -2.528      0.012      -0.084      -0.010\n",
      "bmi            0.5469      0.054     10.093      0.000       0.440       0.653\n",
      "bp             0.3140      0.050      6.236      0.000       0.215       0.413\n",
      "s1             0.5131      0.138      3.721      0.000       0.242       0.784\n",
      "s2            -0.4594      0.144     -3.185      0.002      -0.743      -0.176\n",
      "s3            -0.2706      0.048     -5.682      0.000      -0.364      -0.177\n",
      "s6             0.2197      0.053      4.118      0.000       0.115       0.325\n",
      "==============================================================================\n",
      "Omnibus:                        7.390   Durbin-Watson:                   1.914\n",
      "Prob(Omnibus):                  0.025   Jarque-Bera (JB):                4.930\n",
      "Skew:                           0.100   Prob(JB):                       0.0850\n",
      "Kurtosis:                       2.522   Cond. No.                         27.3\n",
      "==============================================================================\n",
      "\n",
      "Warnings:\n",
      "[1] Standard Errors assume that the covariance matrix of the errors is correctly specified.\n"
     ]
    }
   ],
   "source": [
    "# Modelo sin la variable X7 = S5\n",
    "y = df_norm['Y']\n",
    "x7_s5 = df_norm.iloc[: ,[1,2,3,4,5,6,9]]\n",
    "model = sm.OLS(y, x7_s5)\n",
    "results = model.fit()\n",
    "print(results.summary())"
   ]
  },
  {
   "cell_type": "code",
   "execution_count": 467,
   "metadata": {},
   "outputs": [
    {
     "name": "stdout",
     "output_type": "stream",
     "text": [
      "                                 OLS Regression Results                                \n",
      "=======================================================================================\n",
      "Dep. Variable:                      Y   R-squared (uncentered):                   0.870\n",
      "Model:                            OLS   Adj. R-squared (uncentered):              0.868\n",
      "Method:                 Least Squares   F-statistic:                              415.2\n",
      "Date:                Mon, 06 Apr 2020   Prob (F-statistic):                   3.94e-188\n",
      "Time:                        19:31:52   Log-Likelihood:                          163.72\n",
      "No. Observations:                 442   AIC:                                     -313.4\n",
      "Df Residuals:                     435   BIC:                                     -284.8\n",
      "Df Model:                           7                                                  \n",
      "Covariance Type:            nonrobust                                                  \n",
      "==============================================================================\n",
      "                 coef    std err          t      P>|t|      [0.025      0.975]\n",
      "------------------------------------------------------------------------------\n",
      "sex           -0.0687      0.018     -3.868      0.000      -0.104      -0.034\n",
      "bmi            0.4293      0.053      8.061      0.000       0.325       0.534\n",
      "bp             0.2493      0.048      5.229      0.000       0.156       0.343\n",
      "s1            -0.4863      0.180     -2.704      0.007      -0.840      -0.133\n",
      "s2             0.3583      0.166      2.163      0.031       0.033       0.684\n",
      "s3            -0.0798      0.048     -1.660      0.098      -0.174       0.015\n",
      "s5             0.5805      0.068      8.518      0.000       0.447       0.714\n",
      "==============================================================================\n",
      "Omnibus:                        1.203   Durbin-Watson:                   2.040\n",
      "Prob(Omnibus):                  0.548   Jarque-Bera (JB):                1.187\n",
      "Skew:                           0.022   Prob(JB):                        0.552\n",
      "Kurtosis:                       2.750   Cond. No.                         36.2\n",
      "==============================================================================\n",
      "\n",
      "Warnings:\n",
      "[1] Standard Errors assume that the covariance matrix of the errors is correctly specified.\n"
     ]
    }
   ],
   "source": [
    "# Modelo sin la variable X8 = S6\n",
    "y = df_norm['Y']\n",
    "x7_s6 = df_norm.iloc[: ,[1,2,3,4,5,6,8]]\n",
    "model = sm.OLS(y, x7_s6)\n",
    "results = model.fit()\n",
    "print(results.summary())"
   ]
  },
  {
   "cell_type": "markdown",
   "metadata": {},
   "source": [
    "La candidadata a salir es S6 ya que el **`Adj. R-squared es 0.868.`**, que es igual al del modelo con 8 variables, pero `el puntaje Akike es menor (-313.4)` y en el modelo de 8 variables S6 era la menos signiicativa en presencia de las demás. También debido a que en el modelo sin la varible **`S6`** todas las variables cobran una gran significancia menos una, entonces **`S6 sale del modelo.`**"
   ]
  },
  {
   "cell_type": "markdown",
   "metadata": {},
   "source": [
    "## Modelo final con 7 variables"
   ]
  },
  {
   "cell_type": "code",
   "execution_count": 468,
   "metadata": {},
   "outputs": [
    {
     "data": {
      "text/plain": [
       "Index(['sex', 'bmi', 'bp', 's1', 's2', 's3', 's5'], dtype='object')"
      ]
     },
     "execution_count": 468,
     "metadata": {},
     "output_type": "execute_result"
    }
   ],
   "source": [
    "x7 = df_norm.iloc[: ,[1,2,3,4,5,6,8]]\n",
    "x7.columns"
   ]
  },
  {
   "cell_type": "markdown",
   "metadata": {},
   "source": [
    "### Modelos con 6 variables"
   ]
  },
  {
   "cell_type": "code",
   "execution_count": 469,
   "metadata": {},
   "outputs": [
    {
     "name": "stdout",
     "output_type": "stream",
     "text": [
      "                                 OLS Regression Results                                \n",
      "=======================================================================================\n",
      "Dep. Variable:                      Y   R-squared (uncentered):                   0.865\n",
      "Model:                            OLS   Adj. R-squared (uncentered):              0.863\n",
      "Method:                 Least Squares   F-statistic:                              467.0\n",
      "Date:                Mon, 06 Apr 2020   Prob (F-statistic):                   2.70e-186\n",
      "Time:                        19:31:53   Log-Likelihood:                          156.25\n",
      "No. Observations:                 442   AIC:                                     -300.5\n",
      "Df Residuals:                     436   BIC:                                     -275.9\n",
      "Df Model:                           6                                                  \n",
      "Covariance Type:            nonrobust                                                  \n",
      "==============================================================================\n",
      "                 coef    std err          t      P>|t|      [0.025      0.975]\n",
      "------------------------------------------------------------------------------\n",
      "bmi            0.4557      0.054      8.493      0.000       0.350       0.561\n",
      "bp             0.2050      0.047      4.360      0.000       0.113       0.297\n",
      "s1            -0.2963      0.176     -1.685      0.093      -0.642       0.049\n",
      "s2             0.1555      0.160      0.974      0.331      -0.158       0.469\n",
      "s3            -0.0805      0.049     -1.648      0.100      -0.177       0.016\n",
      "s5             0.5155      0.067      7.684      0.000       0.384       0.647\n",
      "==============================================================================\n",
      "Omnibus:                        5.684   Durbin-Watson:                   2.018\n",
      "Prob(Omnibus):                  0.058   Jarque-Bera (JB):                4.243\n",
      "Skew:                           0.115   Prob(JB):                        0.120\n",
      "Kurtosis:                       2.579   Cond. No.                         31.0\n",
      "==============================================================================\n",
      "\n",
      "Warnings:\n",
      "[1] Standard Errors assume that the covariance matrix of the errors is correctly specified.\n"
     ]
    }
   ],
   "source": [
    "#Modelo sin la variable X1 = Sexo\n",
    "y = df_norm['Y']\n",
    "x6_sex = df_norm.iloc[: ,[2,3,4,5,6,8]]\n",
    "model = sm.OLS(y, x6_sex)\n",
    "results = model.fit()\n",
    "print(results.summary())"
   ]
  },
  {
   "cell_type": "code",
   "execution_count": 470,
   "metadata": {},
   "outputs": [
    {
     "name": "stdout",
     "output_type": "stream",
     "text": [
      "                                 OLS Regression Results                                \n",
      "=======================================================================================\n",
      "Dep. Variable:                      Y   R-squared (uncentered):                   0.850\n",
      "Model:                            OLS   Adj. R-squared (uncentered):              0.848\n",
      "Method:                 Least Squares   F-statistic:                              413.0\n",
      "Date:                Mon, 06 Apr 2020   Prob (F-statistic):                   2.48e-176\n",
      "Time:                        19:31:53   Log-Likelihood:                          132.95\n",
      "No. Observations:                 442   AIC:                                     -253.9\n",
      "Df Residuals:                     436   BIC:                                     -229.4\n",
      "Df Model:                           6                                                  \n",
      "Covariance Type:            nonrobust                                                  \n",
      "==============================================================================\n",
      "                 coef    std err          t      P>|t|      [0.025      0.975]\n",
      "------------------------------------------------------------------------------\n",
      "sex           -0.0870      0.019     -4.616      0.000      -0.124      -0.050\n",
      "bp             0.3600      0.049      7.362      0.000       0.264       0.456\n",
      "s1            -0.8393      0.187     -4.492      0.000      -1.206      -0.472\n",
      "s2             0.7521      0.169      4.437      0.000       0.419       1.085\n",
      "s3            -0.0559      0.051     -1.087      0.278      -0.157       0.045\n",
      "s5             0.8109      0.066     12.242      0.000       0.681       0.941\n",
      "==============================================================================\n",
      "Omnibus:                        1.479   Durbin-Watson:                   2.114\n",
      "Prob(Omnibus):                  0.477   Jarque-Bera (JB):                1.572\n",
      "Skew:                           0.123   Prob(JB):                        0.456\n",
      "Kurtosis:                       2.841   Cond. No.                         33.1\n",
      "==============================================================================\n",
      "\n",
      "Warnings:\n",
      "[1] Standard Errors assume that the covariance matrix of the errors is correctly specified.\n"
     ]
    }
   ],
   "source": [
    "#Modelo sin la variable X2 = Índice de Masa Corporal\n",
    "y = df_norm['Y']\n",
    "x6_bmi = df_norm.iloc[: ,[1,3,4,5,6,8]]\n",
    "model = sm.OLS(y, x6_bmi)\n",
    "results = model.fit()\n",
    "print(results.summary())"
   ]
  },
  {
   "cell_type": "code",
   "execution_count": 471,
   "metadata": {},
   "outputs": [
    {
     "name": "stdout",
     "output_type": "stream",
     "text": [
      "                                 OLS Regression Results                                \n",
      "=======================================================================================\n",
      "Dep. Variable:                      Y   R-squared (uncentered):                   0.862\n",
      "Model:                            OLS   Adj. R-squared (uncentered):              0.860\n",
      "Method:                 Least Squares   F-statistic:                              452.5\n",
      "Date:                Mon, 06 Apr 2020   Prob (F-statistic):                   9.91e-184\n",
      "Time:                        19:31:53   Log-Likelihood:                          150.25\n",
      "No. Observations:                 442   AIC:                                     -288.5\n",
      "Df Residuals:                     436   BIC:                                     -264.0\n",
      "Df Model:                           6                                                  \n",
      "Covariance Type:            nonrobust                                                  \n",
      "==============================================================================\n",
      "                 coef    std err          t      P>|t|      [0.025      0.975]\n",
      "------------------------------------------------------------------------------\n",
      "sex           -0.0464      0.018     -2.614      0.009      -0.081      -0.012\n",
      "bmi            0.5095      0.053      9.701      0.000       0.406       0.613\n",
      "s1            -0.5809      0.184     -3.152      0.002      -0.943      -0.219\n",
      "s2             0.4555      0.169      2.688      0.007       0.122       0.789\n",
      "s3            -0.0001      0.047     -0.003      0.998      -0.092       0.092\n",
      "s5             0.6925      0.067     10.395      0.000       0.562       0.823\n",
      "==============================================================================\n",
      "Omnibus:                        1.487   Durbin-Watson:                   1.973\n",
      "Prob(Omnibus):                  0.475   Jarque-Bera (JB):                1.440\n",
      "Skew:                           0.054   Prob(JB):                        0.487\n",
      "Kurtosis:                       2.742   Cond. No.                         32.9\n",
      "==============================================================================\n",
      "\n",
      "Warnings:\n",
      "[1] Standard Errors assume that the covariance matrix of the errors is correctly specified.\n"
     ]
    }
   ],
   "source": [
    "#Modelo sin la variable X3 = Presión Sanguínea\n",
    "y = df_norm['Y']\n",
    "x6_bp = df_norm.iloc[: ,[1,2,4,5,6,8]]\n",
    "model = sm.OLS(y, x6_bp)\n",
    "results = model.fit()\n",
    "print(results.summary())"
   ]
  },
  {
   "cell_type": "code",
   "execution_count": 472,
   "metadata": {},
   "outputs": [
    {
     "name": "stdout",
     "output_type": "stream",
     "text": [
      "                                 OLS Regression Results                                \n",
      "=======================================================================================\n",
      "Dep. Variable:                      Y   R-squared (uncentered):                   0.868\n",
      "Model:                            OLS   Adj. R-squared (uncentered):              0.866\n",
      "Method:                 Least Squares   F-statistic:                              476.3\n",
      "Date:                Mon, 06 Apr 2020   Prob (F-statistic):                   6.44e-188\n",
      "Time:                        19:31:53   Log-Likelihood:                          160.04\n",
      "No. Observations:                 442   AIC:                                     -308.1\n",
      "Df Residuals:                     436   BIC:                                     -283.5\n",
      "Df Model:                           6                                                  \n",
      "Covariance Type:            nonrobust                                                  \n",
      "==============================================================================\n",
      "                 coef    std err          t      P>|t|      [0.025      0.975]\n",
      "------------------------------------------------------------------------------\n",
      "sex           -0.0556      0.017     -3.230      0.001      -0.089      -0.022\n",
      "bmi            0.4644      0.052      8.925      0.000       0.362       0.567\n",
      "bp             0.2623      0.048      5.489      0.000       0.168       0.356\n",
      "s2            -0.0648      0.055     -1.186      0.236      -0.172       0.043\n",
      "s3            -0.1613      0.038     -4.276      0.000      -0.235      -0.087\n",
      "s5             0.4523      0.049      9.173      0.000       0.355       0.549\n",
      "==============================================================================\n",
      "Omnibus:                        1.818   Durbin-Watson:                   2.024\n",
      "Prob(Omnibus):                  0.403   Jarque-Bera (JB):                1.692\n",
      "Skew:                           0.061   Prob(JB):                        0.429\n",
      "Kurtosis:                       2.722   Cond. No.                         8.49\n",
      "==============================================================================\n",
      "\n",
      "Warnings:\n",
      "[1] Standard Errors assume that the covariance matrix of the errors is correctly specified.\n"
     ]
    }
   ],
   "source": [
    "#Modelo sin la variable X4 = S1\n",
    "y = df_norm['Y']\n",
    "x6_s1 = df_norm.iloc[: ,[1,2,3,5,6,8]]\n",
    "model = sm.OLS(y, x6_s1)\n",
    "results = model.fit()\n",
    "print(results.summary())"
   ]
  },
  {
   "cell_type": "code",
   "execution_count": 473,
   "metadata": {},
   "outputs": [
    {
     "name": "stdout",
     "output_type": "stream",
     "text": [
      "                                 OLS Regression Results                                \n",
      "=======================================================================================\n",
      "Dep. Variable:                      Y   R-squared (uncentered):                   0.868\n",
      "Model:                            OLS   Adj. R-squared (uncentered):              0.867\n",
      "Method:                 Least Squares   F-statistic:                              479.6\n",
      "Date:                Mon, 06 Apr 2020   Prob (F-statistic):                   1.76e-188\n",
      "Time:                        19:31:53   Log-Likelihood:                          161.36\n",
      "No. Observations:                 442   AIC:                                     -310.7\n",
      "Df Residuals:                     436   BIC:                                     -286.2\n",
      "Df Model:                           6                                                  \n",
      "Covariance Type:            nonrobust                                                  \n",
      "==============================================================================\n",
      "                 coef    std err          t      P>|t|      [0.025      0.975]\n",
      "------------------------------------------------------------------------------\n",
      "sex           -0.0565      0.017     -3.342      0.001      -0.090      -0.023\n",
      "bmi            0.4633      0.051      9.066      0.000       0.363       0.564\n",
      "bp             0.2609      0.048      5.483      0.000       0.167       0.354\n",
      "s1            -0.1187      0.059     -2.006      0.045      -0.235      -0.002\n",
      "s3            -0.1328      0.042     -3.194      0.002      -0.214      -0.051\n",
      "s5             0.4964      0.056      8.830      0.000       0.386       0.607\n",
      "==============================================================================\n",
      "Omnibus:                        1.245   Durbin-Watson:                   2.043\n",
      "Prob(Omnibus):                  0.536   Jarque-Bera (JB):                1.255\n",
      "Skew:                           0.052   Prob(JB):                        0.534\n",
      "Kurtosis:                       2.760   Cond. No.                         10.5\n",
      "==============================================================================\n",
      "\n",
      "Warnings:\n",
      "[1] Standard Errors assume that the covariance matrix of the errors is correctly specified.\n"
     ]
    }
   ],
   "source": [
    "#Modelo sin la variable X5 = S2\n",
    "y = df_norm['Y']\n",
    "x6_s2 = df_norm.iloc[: ,[1,2,3,4,6,8]]\n",
    "model = sm.OLS(y, x6_s2)\n",
    "results = model.fit()\n",
    "print(results.summary())"
   ]
  },
  {
   "cell_type": "code",
   "execution_count": 474,
   "metadata": {},
   "outputs": [
    {
     "name": "stdout",
     "output_type": "stream",
     "text": [
      "                                 OLS Regression Results                                \n",
      "=======================================================================================\n",
      "Dep. Variable:                      Y   R-squared (uncentered):                   0.869\n",
      "Model:                            OLS   Adj. R-squared (uncentered):              0.867\n",
      "Method:                 Least Squares   F-statistic:                              482.0\n",
      "Date:                Mon, 06 Apr 2020   Prob (F-statistic):                   6.77e-189\n",
      "Time:                        19:31:53   Log-Likelihood:                          162.33\n",
      "No. Observations:                 442   AIC:                                     -312.7\n",
      "Df Residuals:                     436   BIC:                                     -288.1\n",
      "Df Model:                           6                                                  \n",
      "Covariance Type:            nonrobust                                                  \n",
      "==============================================================================\n",
      "                 coef    std err          t      P>|t|      [0.025      0.975]\n",
      "------------------------------------------------------------------------------\n",
      "sex           -0.0688      0.018     -3.867      0.000      -0.104      -0.034\n",
      "bmi            0.4238      0.053      7.958      0.000       0.319       0.529\n",
      "bp             0.2242      0.045      4.948      0.000       0.135       0.313\n",
      "s1            -0.6735      0.140     -4.797      0.000      -0.949      -0.398\n",
      "s2             0.4982      0.143      3.487      0.001       0.217       0.779\n",
      "s5             0.6243      0.063      9.918      0.000       0.501       0.748\n",
      "==============================================================================\n",
      "Omnibus:                        1.416   Durbin-Watson:                   2.040\n",
      "Prob(Omnibus):                  0.493   Jarque-Bera (JB):                1.371\n",
      "Skew:                           0.044   Prob(JB):                        0.504\n",
      "Kurtosis:                       2.742   Cond. No.                         28.2\n",
      "==============================================================================\n",
      "\n",
      "Warnings:\n",
      "[1] Standard Errors assume that the covariance matrix of the errors is correctly specified.\n"
     ]
    }
   ],
   "source": [
    "#Modelo sin la variable X6 = S3\n",
    "y = df_norm['Y']\n",
    "x6_s3 = df_norm.iloc[: ,[1,2,3,4,5,8]]\n",
    "model = sm.OLS(y, x6_s3)\n",
    "results = model.fit()\n",
    "print(results.summary())"
   ]
  },
  {
   "cell_type": "code",
   "execution_count": 475,
   "metadata": {},
   "outputs": [
    {
     "name": "stdout",
     "output_type": "stream",
     "text": [
      "                                 OLS Regression Results                                \n",
      "=======================================================================================\n",
      "Dep. Variable:                      Y   R-squared (uncentered):                   0.848\n",
      "Model:                            OLS   Adj. R-squared (uncentered):              0.846\n",
      "Method:                 Least Squares   F-statistic:                              405.7\n",
      "Date:                Mon, 06 Apr 2020   Prob (F-statistic):                   6.55e-175\n",
      "Time:                        19:31:53   Log-Likelihood:                          129.63\n",
      "No. Observations:                 442   AIC:                                     -247.3\n",
      "Df Residuals:                     436   BIC:                                     -222.7\n",
      "Df Model:                           6                                                  \n",
      "Covariance Type:            nonrobust                                                  \n",
      "==============================================================================\n",
      "                 coef    std err          t      P>|t|      [0.025      0.975]\n",
      "------------------------------------------------------------------------------\n",
      "sex           -0.0314      0.019     -1.693      0.091      -0.068       0.005\n",
      "bmi            0.6196      0.052     11.879      0.000       0.517       0.722\n",
      "bp             0.3770      0.049      7.719      0.000       0.281       0.473\n",
      "s1             0.5796      0.139      4.157      0.000       0.306       0.854\n",
      "s2            -0.4462      0.147     -3.039      0.003      -0.735      -0.158\n",
      "s3            -0.2385      0.048     -4.987      0.000      -0.333      -0.145\n",
      "==============================================================================\n",
      "Omnibus:                        6.647   Durbin-Watson:                   1.939\n",
      "Prob(Omnibus):                  0.036   Jarque-Bera (JB):                4.906\n",
      "Skew:                           0.135   Prob(JB):                       0.0860\n",
      "Kurtosis:                       2.560   Cond. No.                         24.6\n",
      "==============================================================================\n",
      "\n",
      "Warnings:\n",
      "[1] Standard Errors assume that the covariance matrix of the errors is correctly specified.\n"
     ]
    }
   ],
   "source": [
    "#Modelo sin la variable X7 = S5\n",
    "y = df_norm['Y']\n",
    "x6_s5 = df_norm.iloc[: ,[1,2,3,4,5,6]]\n",
    "model = sm.OLS(y, x6_s5)\n",
    "results = model.fit()\n",
    "print(results.summary())"
   ]
  },
  {
   "cell_type": "code",
   "execution_count": null,
   "metadata": {},
   "outputs": [],
   "source": []
  },
  {
   "cell_type": "code",
   "execution_count": null,
   "metadata": {},
   "outputs": [],
   "source": []
  },
  {
   "cell_type": "markdown",
   "metadata": {},
   "source": [
    "La Variable **`S3 sale del modelo`** ya que en su ausencia, aunque el **`Adj. R-squared pasó de 0.868 a0.867`** (cambio qu es mínimo y que no modifica el porcentaje da la predicción que es axplicado por las variables independientes resultantes), en el modelo con 7 variables es la menos significativa en presencia de las demás variables. También es de notar que todas las variables cobra gran significancia con este modelo resultante al sacar S3 (viendo el valor p)."
   ]
  },
  {
   "cell_type": "markdown",
   "metadata": {},
   "source": [
    "## Modelo final con 6 Variales"
   ]
  },
  {
   "cell_type": "code",
   "execution_count": 476,
   "metadata": {},
   "outputs": [
    {
     "data": {
      "text/plain": [
       "Index(['sex', 'bmi', 'bp', 's1', 's2', 's5'], dtype='object')"
      ]
     },
     "execution_count": 476,
     "metadata": {},
     "output_type": "execute_result"
    }
   ],
   "source": [
    "y = df_norm['Y']\n",
    "x6 = df_norm.iloc[: ,[1,2,3,4,5,8]]\n",
    "x6.columns"
   ]
  },
  {
   "cell_type": "markdown",
   "metadata": {},
   "source": [
    "### Modelos con 5 variables"
   ]
  },
  {
   "cell_type": "code",
   "execution_count": 477,
   "metadata": {},
   "outputs": [
    {
     "name": "stdout",
     "output_type": "stream",
     "text": [
      "                                 OLS Regression Results                                \n",
      "=======================================================================================\n",
      "Dep. Variable:                      Y   R-squared (uncentered):                   0.865\n",
      "Model:                            OLS   Adj. R-squared (uncentered):              0.863\n",
      "Method:                 Least Squares   F-statistic:                              557.6\n",
      "Date:                Mon, 06 Apr 2020   Prob (F-statistic):                   4.20e-187\n",
      "Time:                        19:31:53   Log-Likelihood:                          154.87\n",
      "No. Observations:                 442   AIC:                                     -299.7\n",
      "Df Residuals:                     437   BIC:                                     -279.3\n",
      "Df Model:                           5                                                  \n",
      "Covariance Type:            nonrobust                                                  \n",
      "==============================================================================\n",
      "                 coef    std err          t      P>|t|      [0.025      0.975]\n",
      "------------------------------------------------------------------------------\n",
      "bmi            0.4503      0.054      8.391      0.000       0.345       0.556\n",
      "bp             0.1797      0.045      4.036      0.000       0.092       0.267\n",
      "s1            -0.4849      0.134     -3.625      0.000      -0.748      -0.222\n",
      "s2             0.2963      0.135      2.194      0.029       0.031       0.562\n",
      "s5             0.5597      0.062      9.078      0.000       0.438       0.681\n",
      "==============================================================================\n",
      "Omnibus:                        6.193   Durbin-Watson:                   2.016\n",
      "Prob(Omnibus):                  0.045   Jarque-Bera (JB):                4.639\n",
      "Skew:                           0.131   Prob(JB):                       0.0983\n",
      "Kurtosis:                       2.572   Cond. No.                         23.1\n",
      "==============================================================================\n",
      "\n",
      "Warnings:\n",
      "[1] Standard Errors assume that the covariance matrix of the errors is correctly specified.\n"
     ]
    }
   ],
   "source": [
    "#Modelo sin la variable X1 = Sexo\n",
    "y = df_norm['Y']\n",
    "x5_sex = df_norm.iloc[: ,[2,3,4,5,8]]\n",
    "model = sm.OLS(y, x5_sex)\n",
    "results = model.fit()\n",
    "print(results.summary())"
   ]
  },
  {
   "cell_type": "code",
   "execution_count": 478,
   "metadata": {},
   "outputs": [
    {
     "name": "stdout",
     "output_type": "stream",
     "text": [
      "                                 OLS Regression Results                                \n",
      "=======================================================================================\n",
      "Dep. Variable:                      Y   R-squared (uncentered):                   0.850\n",
      "Model:                            OLS   Adj. R-squared (uncentered):              0.848\n",
      "Method:                 Least Squares   F-statistic:                              495.1\n",
      "Date:                Mon, 06 Apr 2020   Prob (F-statistic):                   1.91e-177\n",
      "Time:                        19:31:54   Log-Likelihood:                          132.36\n",
      "No. Observations:                 442   AIC:                                     -254.7\n",
      "Df Residuals:                     437   BIC:                                     -234.3\n",
      "Df Model:                           5                                                  \n",
      "Covariance Type:            nonrobust                                                  \n",
      "==============================================================================\n",
      "                 coef    std err          t      P>|t|      [0.025      0.975]\n",
      "------------------------------------------------------------------------------\n",
      "sex           -0.0869      0.019     -4.610      0.000      -0.124      -0.050\n",
      "bp             0.3414      0.046      7.452      0.000       0.251       0.431\n",
      "s1            -0.9677      0.145     -6.684      0.000      -1.252      -0.683\n",
      "s2             0.8469      0.145      5.827      0.000       0.561       1.133\n",
      "s5             0.8397      0.061     13.822      0.000       0.720       0.959\n",
      "==============================================================================\n",
      "Omnibus:                        2.080   Durbin-Watson:                   2.114\n",
      "Prob(Omnibus):                  0.353   Jarque-Bera (JB):                2.154\n",
      "Skew:                           0.144   Prob(JB):                        0.341\n",
      "Kurtosis:                       2.816   Cond. No.                         25.4\n",
      "==============================================================================\n",
      "\n",
      "Warnings:\n",
      "[1] Standard Errors assume that the covariance matrix of the errors is correctly specified.\n"
     ]
    }
   ],
   "source": [
    "#Modelo sin la variable X2 = Índice de Masa Corporal\n",
    "y = df_norm['Y']\n",
    "x5_bmi = df_norm.iloc[: ,[1,3,4,5,8]]\n",
    "model = sm.OLS(y, x5_bmi)\n",
    "results = model.fit()\n",
    "print(results.summary())"
   ]
  },
  {
   "cell_type": "code",
   "execution_count": 479,
   "metadata": {},
   "outputs": [
    {
     "name": "stdout",
     "output_type": "stream",
     "text": [
      "                                 OLS Regression Results                                \n",
      "=======================================================================================\n",
      "Dep. Variable:                      Y   R-squared (uncentered):                   0.862\n",
      "Model:                            OLS   Adj. R-squared (uncentered):              0.860\n",
      "Method:                 Least Squares   F-statistic:                              544.3\n",
      "Date:                Mon, 06 Apr 2020   Prob (F-statistic):                   4.04e-185\n",
      "Time:                        19:31:54   Log-Likelihood:                          150.25\n",
      "No. Observations:                 442   AIC:                                     -290.5\n",
      "Df Residuals:                     437   BIC:                                     -270.0\n",
      "Df Model:                           5                                                  \n",
      "Covariance Type:            nonrobust                                                  \n",
      "==============================================================================\n",
      "                 coef    std err          t      P>|t|      [0.025      0.975]\n",
      "------------------------------------------------------------------------------\n",
      "sex           -0.0464      0.018     -2.627      0.009      -0.081      -0.012\n",
      "bmi            0.5095      0.052      9.852      0.000       0.408       0.611\n",
      "s1            -0.5812      0.143     -4.069      0.000      -0.862      -0.300\n",
      "s2             0.4558      0.146      3.113      0.002       0.168       0.743\n",
      "s5             0.6925      0.063     10.984      0.000       0.569       0.816\n",
      "==============================================================================\n",
      "Omnibus:                        1.488   Durbin-Watson:                   1.973\n",
      "Prob(Omnibus):                  0.475   Jarque-Bera (JB):                1.441\n",
      "Skew:                           0.054   Prob(JB):                        0.486\n",
      "Kurtosis:                       2.742   Cond. No.                         25.6\n",
      "==============================================================================\n",
      "\n",
      "Warnings:\n",
      "[1] Standard Errors assume that the covariance matrix of the errors is correctly specified.\n"
     ]
    }
   ],
   "source": [
    "#Modelo sin la variable X3 = Presión Sanguínea\n",
    "y = df_norm['Y']\n",
    "x5_bp = df_norm.iloc[: ,[1,2,4,5,8]]\n",
    "model = sm.OLS(y, x5_bp)\n",
    "results = model.fit()\n",
    "print(results.summary())"
   ]
  },
  {
   "cell_type": "code",
   "execution_count": 480,
   "metadata": {},
   "outputs": [
    {
     "name": "stdout",
     "output_type": "stream",
     "text": [
      "                                 OLS Regression Results                                \n",
      "=======================================================================================\n",
      "Dep. Variable:                      Y   R-squared (uncentered):                   0.862\n",
      "Model:                            OLS   Adj. R-squared (uncentered):              0.861\n",
      "Method:                 Least Squares   F-statistic:                              546.3\n",
      "Date:                Mon, 06 Apr 2020   Prob (F-statistic):                   2.01e-185\n",
      "Time:                        19:31:54   Log-Likelihood:                          150.96\n",
      "No. Observations:                 442   AIC:                                     -291.9\n",
      "Df Residuals:                     437   BIC:                                     -271.5\n",
      "Df Model:                           5                                                  \n",
      "Covariance Type:            nonrobust                                                  \n",
      "==============================================================================\n",
      "                 coef    std err          t      P>|t|      [0.025      0.975]\n",
      "------------------------------------------------------------------------------\n",
      "sex           -0.0391      0.017     -2.289      0.023      -0.073      -0.006\n",
      "bmi            0.4911      0.053      9.326      0.000       0.388       0.595\n",
      "bp             0.1953      0.046      4.244      0.000       0.105       0.286\n",
      "s2            -0.1413      0.053     -2.682      0.008      -0.245      -0.038\n",
      "s5             0.4340      0.050      8.665      0.000       0.336       0.532\n",
      "==============================================================================\n",
      "Omnibus:                        4.663   Durbin-Watson:                   2.015\n",
      "Prob(Omnibus):                  0.097   Jarque-Bera (JB):                4.199\n",
      "Skew:                           0.172   Prob(JB):                        0.123\n",
      "Kurtosis:                       2.670   Cond. No.                         7.82\n",
      "==============================================================================\n",
      "\n",
      "Warnings:\n",
      "[1] Standard Errors assume that the covariance matrix of the errors is correctly specified.\n"
     ]
    }
   ],
   "source": [
    "#Modelo sin la variable X4 = S1\n",
    "y = df_norm['Y']\n",
    "x5_s1 = df_norm.iloc[: ,[1,2,3,5,8]]\n",
    "model = sm.OLS(y, x5_s1)\n",
    "results = model.fit()\n",
    "print(results.summary())"
   ]
  },
  {
   "cell_type": "code",
   "execution_count": 481,
   "metadata": {},
   "outputs": [
    {
     "name": "stdout",
     "output_type": "stream",
     "text": [
      "                                 OLS Regression Results                                \n",
      "=======================================================================================\n",
      "Dep. Variable:                      Y   R-squared (uncentered):                   0.865\n",
      "Model:                            OLS   Adj. R-squared (uncentered):              0.864\n",
      "Method:                 Least Squares   F-statistic:                              561.6\n",
      "Date:                Mon, 06 Apr 2020   Prob (F-statistic):                   1.08e-187\n",
      "Time:                        19:31:54   Log-Likelihood:                          156.25\n",
      "No. Observations:                 442   AIC:                                     -302.5\n",
      "Df Residuals:                     437   BIC:                                     -282.0\n",
      "Df Model:                           5                                                  \n",
      "Covariance Type:            nonrobust                                                  \n",
      "==============================================================================\n",
      "                 coef    std err          t      P>|t|      [0.025      0.975]\n",
      "------------------------------------------------------------------------------\n",
      "sex           -0.0461      0.017     -2.750      0.006      -0.079      -0.013\n",
      "bmi            0.4808      0.051      9.365      0.000       0.380       0.582\n",
      "bp             0.2147      0.046      4.688      0.000       0.125       0.305\n",
      "s1            -0.2167      0.051     -4.237      0.000      -0.317      -0.116\n",
      "s5             0.5211      0.056      9.261      0.000       0.411       0.632\n",
      "==============================================================================\n",
      "Omnibus:                        2.135   Durbin-Watson:                   2.052\n",
      "Prob(Omnibus):                  0.344   Jarque-Bera (JB):                2.137\n",
      "Skew:                           0.124   Prob(JB):                        0.344\n",
      "Kurtosis:                       2.766   Cond. No.                         9.10\n",
      "==============================================================================\n",
      "\n",
      "Warnings:\n",
      "[1] Standard Errors assume that the covariance matrix of the errors is correctly specified.\n"
     ]
    }
   ],
   "source": [
    "#Modelo sin la variable X5 = S2\n",
    "y = df_norm['Y']\n",
    "x5_s2 = df_norm.iloc[: ,[1,2,3,4,8]]\n",
    "model = sm.OLS(y, x5_s2)\n",
    "results = model.fit()\n",
    "print(results.summary())"
   ]
  },
  {
   "cell_type": "code",
   "execution_count": 482,
   "metadata": {},
   "outputs": [
    {
     "name": "stdout",
     "output_type": "stream",
     "text": [
      "                                 OLS Regression Results                                \n",
      "=======================================================================================\n",
      "Dep. Variable:                      Y   R-squared (uncentered):                   0.839\n",
      "Model:                            OLS   Adj. R-squared (uncentered):              0.838\n",
      "Method:                 Least Squares   F-statistic:                              456.9\n",
      "Date:                Mon, 06 Apr 2020   Prob (F-statistic):                   5.11e-171\n",
      "Time:                        19:31:54   Log-Likelihood:                          117.37\n",
      "No. Observations:                 442   AIC:                                     -224.7\n",
      "Df Residuals:                     437   BIC:                                     -204.3\n",
      "Df Model:                           5                                                  \n",
      "Covariance Type:            nonrobust                                                  \n",
      "==============================================================================\n",
      "                 coef    std err          t      P>|t|      [0.025      0.975]\n",
      "------------------------------------------------------------------------------\n",
      "sex           -0.0219      0.019     -1.156      0.248      -0.059       0.015\n",
      "bmi            0.6510      0.053     12.242      0.000       0.546       0.755\n",
      "bp             0.3227      0.049      6.599      0.000       0.227       0.419\n",
      "s1             0.2042      0.121      1.694      0.091      -0.033       0.441\n",
      "s2            -0.1676      0.139     -1.202      0.230      -0.442       0.106\n",
      "==============================================================================\n",
      "Omnibus:                        9.741   Durbin-Watson:                   1.937\n",
      "Prob(Omnibus):                  0.008   Jarque-Bera (JB):                6.686\n",
      "Skew:                           0.167   Prob(JB):                       0.0353\n",
      "Kurtosis:                       2.498   Cond. No.                         20.8\n",
      "==============================================================================\n",
      "\n",
      "Warnings:\n",
      "[1] Standard Errors assume that the covariance matrix of the errors is correctly specified.\n"
     ]
    }
   ],
   "source": [
    "#Modelo sin la variable X6 = S5\n",
    "y = df_norm['Y']\n",
    "x5_s5 = df_norm.iloc[: ,[1,2,3,4,5]]\n",
    "model = sm.OLS(y, x5_s5)\n",
    "results = model.fit()\n",
    "print(results.summary())"
   ]
  },
  {
   "cell_type": "markdown",
   "metadata": {},
   "source": [
    ">No hay mejoras eliminando otra variable, y en el modelo con 6 variables no habían variables con poca significancia con respecto a las demás. Por lo tanto se conserva el modelo con 6 variables."
   ]
  },
  {
   "cell_type": "markdown",
   "metadata": {},
   "source": [
    "### Modelos de regresión Lineal\n",
    "Entrenaremos y evaluaremos los modelos de regresión con 6 variables y 10 variables para ver si en realidad es mejor el modelo de 6 variables."
   ]
  },
  {
   "cell_type": "code",
   "execution_count": 483,
   "metadata": {},
   "outputs": [
    {
     "name": "stdout",
     "output_type": "stream",
     "text": [
      "340\n",
      "102\n"
     ]
    }
   ],
   "source": [
    "#Train  and Test \n",
    "msk = np.random.rand(len(df_norm)) < 0.80\n",
    "train = df_norm[msk]\n",
    "test = df_norm[~msk]\n",
    "print(len(train))\n",
    "print(len(test))"
   ]
  },
  {
   "cell_type": "code",
   "execution_count": 484,
   "metadata": {},
   "outputs": [
    {
     "name": "stdout",
     "output_type": "stream",
     "text": [
      "Coefficients:  [[-0.06901601  0.40580668  0.22206728 -0.70936812  0.62184477  0.67573762]]\n"
     ]
    }
   ],
   "source": [
    "#Evaluando modelo de 6 variables encontrado\n",
    "from sklearn import linear_model\n",
    "regr = linear_model.LinearRegression()\n",
    "x = np.asanyarray(train[['sex', 'bmi', 'bp', 's1', 's2', 's5']])\n",
    "y = np.asanyarray(train[['Y']])\n",
    "regr.fit (x, y)\n",
    "# The coefficients\n",
    "print ('Coefficients: ', regr.coef_)"
   ]
  },
  {
   "cell_type": "code",
   "execution_count": 485,
   "metadata": {},
   "outputs": [
    {
     "name": "stdout",
     "output_type": "stream",
     "text": [
      "Residual sum of squares: 0.02\n",
      "Variance score: 0.61\n"
     ]
    }
   ],
   "source": [
    "y_hat= regr.predict(test[['sex', 'bmi', 'bp', 's1', 's2', 's5']])\n",
    "x = np.asanyarray(test[['sex', 'bmi', 'bp', 's1', 's2', 's5']])\n",
    "y = np.asanyarray(test[['Y']])\n",
    "print(\"Residual sum of squares: %.2f\"\n",
    "      % np.mean((y_hat - y) ** 2))\n",
    "\n",
    "# Explained variance score: 1 is perfect prediction\n",
    "print('Variance score: %.2f' % regr.score(x, y))"
   ]
  },
  {
   "cell_type": "code",
   "execution_count": 486,
   "metadata": {},
   "outputs": [
    {
     "data": {
      "text/plain": [
       "Text(0, 0.5, 'Predicciones')"
      ]
     },
     "execution_count": 486,
     "metadata": {},
     "output_type": "execute_result"
    },
    {
     "data": {
      "image/png": "[encoded data removed]",
      "text/plain": [
       "<Figure size 432x288 with 1 Axes>"
      ]
     },
     "metadata": {
      "needs_background": "light"
     },
     "output_type": "display_data"
    }
   ],
   "source": [
    "## The line / model\n",
    "plt.scatter(y, y_hat)\n",
    "plt.xlabel('Valores Reales')\n",
    "plt.ylabel('Predicciones')"
   ]
  },
  {
   "cell_type": "code",
   "execution_count": 487,
   "metadata": {},
   "outputs": [
    {
     "name": "stdout",
     "output_type": "stream",
     "text": [
      "Coefficients:  [[-0.02525647 -0.07240924  0.40290436  0.23257002 -0.40214433  0.27373175\n",
      "  -0.07461066  0.11308098  0.53080406  0.00871746]]\n"
     ]
    }
   ],
   "source": [
    "#Evaluando modelo de 10 variables encontrado\n",
    "regr10 = linear_model.LinearRegression()\n",
    "xd = np.asanyarray(train[['age', 'sex', 'bmi', 'bp', 's1', 's2', 's3', 's4', 's5', 's6']])\n",
    "yd = np.asanyarray(train[['Y']])\n",
    "regr10.fit (xd, yd)\n",
    "# The coefficients\n",
    "print ('Coefficients: ', regr10.coef_)"
   ]
  },
  {
   "cell_type": "code",
   "execution_count": 488,
   "metadata": {},
   "outputs": [
    {
     "name": "stdout",
     "output_type": "stream",
     "text": [
      "Residual sum of squares: 0.02\n",
      "Variance score: 0.60\n"
     ]
    }
   ],
   "source": [
    "yd_hat= regr10.predict(test[['age', 'sex', 'bmi', 'bp', 's1', 's2', 's3', 's4', 's5', 's6']])\n",
    "xd = np.asanyarray(test[['age', 'sex', 'bmi', 'bp', 's1', 's2', 's3', 's4', 's5', 's6']])\n",
    "yd = np.asanyarray(test[['Y']])\n",
    "print(\"Residual sum of squares: %.2f\"\n",
    "      % np.mean((yd_hat - yd) ** 2))\n",
    "\n",
    "# Explained variance score: 1 is perfect prediction\n",
    "print('Variance score: %.2f' % regr10.score(xd, yd))"
   ]
  },
  {
   "cell_type": "markdown",
   "metadata": {},
   "source": [
    ">Teniendo encuenta que:\n",
    "- la RSS mide la distancia total de los datos reales y los predichos por el modelo (un residuo es la distancia entre un dato y la linea de regresión)\n",
    "- Si y_hat son los datos predichos y y son los datos reales de la variable dependiente, entonces al varianza es:\n",
    "$\\texttt{Variance}(y, \\hat{y}) = 1 - \\frac{Var\\{ y - \\hat{y}\\}}{Var\\{y\\}}$, \n",
    "  El mejor puntaje posible es 1.0\n",
    "\n",
    "Efectivamente, comparando la suma de cuadrados residuales y el variance score, tenemos que el modelo de 6 variables es mejor que el modelo con 10 variables pero por muy poco. En realidad la diferencia no es muchas y en ocasiones el modelo con 10 variables obtiene un score mayor en la varianza. Pero en general las diferencias en la RSS es mínima, lo que soporta la decisión de que **`las variables eliminadas no son significativas en el modelo de regresión`**."
   ]
  },
  {
   "cell_type": "code",
   "execution_count": 489,
   "metadata": {},
   "outputs": [
    {
     "name": "stdout",
     "output_type": "stream",
     "text": [
      "sex   -0.068768\n",
      "bmi    0.423845\n",
      "bp     0.224231\n",
      "s1    -0.673541\n",
      "s2     0.498232\n",
      "s5     0.624307\n",
      "dtype: float64\n"
     ]
    }
   ],
   "source": [
    "y = df_norm['Y']\n",
    "model = sm.OLS(y, x6)\n",
    "results = model.fit()\n",
    "print(results.params)"
   ]
  },
  {
   "cell_type": "markdown",
   "metadata": {},
   "source": [
    "# Red Neuronal"
   ]
  },
  {
   "cell_type": "code",
   "execution_count": 490,
   "metadata": {},
   "outputs": [
    {
     "data": {
      "image/png": "[encoded data removed]",
      "text/plain": [
       "<Figure size 720x432 with 1 Axes>"
      ]
     },
     "metadata": {
      "needs_background": "light"
     },
     "output_type": "display_data"
    }
   ],
   "source": [
    "## Revisando las características descriptivas de las variables\n",
    "import seaborn as sns\n",
    "plt.figure(figsize=(10, 6))\n",
    "sns.boxplot(data=x6)\n",
    "plt.xticks(rotation=90);"
   ]
  },
  {
   "cell_type": "code",
   "execution_count": 491,
   "metadata": {},
   "outputs": [],
   "source": [
    "from sklearn.model_selection import train_test_split\n",
    "X_train, X_test, y_train, y_test = train_test_split(x6, y, test_size=0.2)"
   ]
  },
  {
   "cell_type": "code",
   "execution_count": 492,
   "metadata": {},
   "outputs": [],
   "source": [
    "# Utilización de GridSearchCV para optimizar los parámetros de la red neuronal\n",
    "from sklearn.neural_network import MLPRegressor\n",
    "mlp = MLPRegressor(max_iter=10000)"
   ]
  },
  {
   "cell_type": "code",
   "execution_count": 493,
   "metadata": {},
   "outputs": [],
   "source": [
    "parameter_space = {\n",
    "    'hidden_layer_sizes': [(50,5), (5,), (10,)], # tres configuraciones distintas de capas ocultas\n",
    "    'activation': ['logistic', 'relu'], # se prueba entre las funciones de activación logística y Relu\n",
    "    'solver': ['lbfgs'], # se utiliza el solver más apropiado para datos pequeños.\n",
    "    'alpha': [0.0001, 0.05],\n",
    "    'learning_rate': ['constant'], # se deja la tasa de aprendizaje constante ya que el solver usado no soporta otra\n",
    "}"
   ]
  },
  {
   "cell_type": "code",
   "execution_count": 494,
   "metadata": {},
   "outputs": [
    {
     "name": "stderr",
     "output_type": "stream",
     "text": [
      "C:\\Users\\BocanegraMartinez\\Anaconda3\\envs\\Vision\\lib\\site-packages\\sklearn\\model_selection\\_search.py:814: DeprecationWarning: The default of the `iid` parameter will change from True to False in version 0.22 and will be removed in 0.24. This will change numeric results when test-set sizes are unequal.\n",
      "  DeprecationWarning)\n"
     ]
    },
    {
     "data": {
      "text/plain": [
       "GridSearchCV(cv=3, error_score='raise-deprecating',\n",
       "             estimator=MLPRegressor(activation='relu', alpha=0.0001,\n",
       "                                    batch_size='auto', beta_1=0.9, beta_2=0.999,\n",
       "                                    early_stopping=False, epsilon=1e-08,\n",
       "                                    hidden_layer_sizes=(100,),\n",
       "                                    learning_rate='constant',\n",
       "                                    learning_rate_init=0.001, max_iter=10000,\n",
       "                                    momentum=0.9, n_iter_no_change=10,\n",
       "                                    nesterovs_momentum=True, power_t=0.5,\n",
       "                                    random_st...le=True,\n",
       "                                    solver='adam', tol=0.0001,\n",
       "                                    validation_fraction=0.1, verbose=False,\n",
       "                                    warm_start=False),\n",
       "             iid='warn', n_jobs=-1,\n",
       "             param_grid={'activation': ['logistic', 'relu'],\n",
       "                         'alpha': [0.0001, 0.05],\n",
       "                         'hidden_layer_sizes': [(50, 5), (5,), (10,)],\n",
       "                         'learning_rate': ['constant'], 'solver': ['lbfgs']},\n",
       "             pre_dispatch='2*n_jobs', refit=True, return_train_score=False,\n",
       "             scoring=None, verbose=0)"
      ]
     },
     "execution_count": 494,
     "metadata": {},
     "output_type": "execute_result"
    }
   ],
   "source": [
    "from sklearn.model_selection import GridSearchCV\n",
    "#Se habilita la optimización de parámetros con todos los procesadores y 3 splits para la \"cross-valitadion\"\n",
    "clf = GridSearchCV(mlp, parameter_space, n_jobs=-1, cv=3)\n",
    "clf.fit(X_train, y_train)"
   ]
  },
  {
   "cell_type": "code",
   "execution_count": 495,
   "metadata": {},
   "outputs": [
    {
     "name": "stdout",
     "output_type": "stream",
     "text": [
      "Best parameters found:\n",
      " {'activation': 'logistic', 'alpha': 0.0001, 'hidden_layer_sizes': (50, 5), 'learning_rate': 'constant', 'solver': 'lbfgs'}\n"
     ]
    }
   ],
   "source": [
    "# Best paramete set\n",
    "print('Best parameters found:\\n', clf.best_params_)"
   ]
  },
  {
   "cell_type": "code",
   "execution_count": 496,
   "metadata": {},
   "outputs": [
    {
     "name": "stdout",
     "output_type": "stream",
     "text": [
      "Residual sum of squares: 0.04\n",
      "Score: 0.45\n"
     ]
    }
   ],
   "source": [
    "y_true = np.asanyarray(y_test)\n",
    "y_pred =  clf.predict(X_test)\n",
    "\n",
    "print(\"Residual sum of squares: %.2f\"\n",
    "      % np.mean((y_pred - y_true) ** 2))\n",
    "print('Score: %.2f' % clf.score(X_test, y_test))\n"
   ]
  },
  {
   "cell_type": "markdown",
   "metadata": {},
   "source": [
    ">Como vemos en los resultados de la red neuronal la diferencia en puntaje es similar a la del modelo de regresión lineal usado anteriormente. Pero ajustando más prámetros es seguro que se puede lograr mayor presición."
   ]
  }
 ],
 "metadata": {
  "colab": {
   "include_colab_link": true,
   "name": "Copia de Untitled3.ipynb",
   "provenance": [],
   "version": "0.3.2"
  },
  "kernelspec": {
   "display_name": "Python 3",
   "language": "python",
   "name": "python3"
  },
  "language_info": {
   "codemirror_mode": {
    "name": "ipython",
    "version": 3
   },
   "file_extension": ".py",
   "mimetype": "text/x-python",
   "name": "python",
   "nbconvert_exporter": "python",
   "pygments_lexer": "ipython3",
   "version": "3.7.4"
  }
 },
 "nbformat": 4,
 "nbformat_minor": 2
}
